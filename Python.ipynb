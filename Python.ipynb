{
  "nbformat": 4,
  "nbformat_minor": 0,
  "metadata": {
    "colab": {
      "provenance": [],
      "authorship_tag": "ABX9TyP5/4ufWg5ftiERpfQF2CzA",
      "include_colab_link": true
    },
    "kernelspec": {
      "name": "python3",
      "display_name": "Python 3"
    },
    "language_info": {
      "name": "python"
    }
  },
  "cells": [
    {
      "cell_type": "markdown",
      "metadata": {
        "id": "view-in-github",
        "colab_type": "text"
      },
      "source": [
        "<a href=\"https://colab.research.google.com/github/Yashika-06/python-yashika/blob/main/Python.ipynb\" target=\"_parent\"><img src=\"https://colab.research.google.com/assets/colab-badge.svg\" alt=\"Open In Colab\"/></a>"
      ]
    },
    {
      "cell_type": "code",
      "execution_count": null,
      "metadata": {
        "colab": {
          "base_uri": "https://localhost:8080/"
        },
        "id": "MYAtd6O_w6Cw",
        "outputId": "ffbeb61a-8c34-4db8-bb9d-f20cfecb4180"
      },
      "outputs": [
        {
          "output_type": "stream",
          "name": "stdout",
          "text": [
            "what's your first number: 1\n",
            "your second number: 2\n",
            "your sum is:  3\n"
          ]
        }
      ],
      "source": [
        "a= int(input(\"what's your first number: \"))\n",
        "b= int(input(\"your second number: \"))\n",
        "c= a+b\n",
        "print (\"your sum is: \", c)"
      ]
    },
    {
      "cell_type": "code",
      "source": [
        "a= \"what's your first number: \"\n",
        "print(\"z\" in a)"
      ],
      "metadata": {
        "colab": {
          "base_uri": "https://localhost:8080/"
        },
        "id": "_axCsF1mz1he",
        "outputId": "6a7f67e6-cfdb-4a22-d96a-9d6eb7d0e259"
      },
      "execution_count": null,
      "outputs": [
        {
          "output_type": "stream",
          "name": "stdout",
          "text": [
            "False\n"
          ]
        }
      ]
    },
    {
      "cell_type": "code",
      "source": [
        "#to build a calculator\n",
        "\n",
        "a= int(input(\"first number: \"))\n",
        "operator= input(\"enter your operator(+,-,*,/,//):  \")\n",
        "b= int(input(\"second number: \"))\n",
        "\n",
        "if operator ==\"+\":\n",
        "  print (a+b)\n",
        "elif operator ==\"-\":\n",
        "  print (a-b)\n",
        "elif operator==\"*\":\n",
        "  print(a*b)\n",
        "elif operator==\"/\":\n",
        "  print (a/b)\n",
        "elif operator==\"//\":\n",
        "  print (a//b)\n",
        "else:\n",
        "  print(\"invalid equation\")\n",
        "\n",
        "\n"
      ],
      "metadata": {
        "colab": {
          "base_uri": "https://localhost:8080/"
        },
        "id": "v-gyhownTGm1",
        "outputId": "219529eb-2574-4109-9a32-eaaabf0ecb61"
      },
      "execution_count": null,
      "outputs": [
        {
          "output_type": "stream",
          "name": "stdout",
          "text": [
            "first number: 25\n",
            "enter your operator(+,-,*,/,//):  /\n",
            "second number: 5\n",
            "5.0\n"
          ]
        }
      ]
    },
    {
      "cell_type": "code",
      "source": [
        "a= range(6)\n",
        "print (a)\n"
      ],
      "metadata": {
        "colab": {
          "base_uri": "https://localhost:8080/"
        },
        "id": "lzLsTsY1Vsq_",
        "outputId": "da8f03e2-f480-4d6b-b2dc-542cc1f4111c"
      },
      "execution_count": null,
      "outputs": [
        {
          "output_type": "stream",
          "name": "stdout",
          "text": [
            "range(0, 6)\n"
          ]
        }
      ]
    },
    {
      "cell_type": "code",
      "source": [
        "i = 1\n",
        "while i <= 5:\n",
        "  print (i * \"$\")\n",
        "  i = i*2"
      ],
      "metadata": {
        "colab": {
          "base_uri": "https://localhost:8080/"
        },
        "id": "BWyRmve4WqlW",
        "outputId": "a188c0cc-05d3-4880-9371-060a3a822705"
      },
      "execution_count": null,
      "outputs": [
        {
          "output_type": "stream",
          "name": "stdout",
          "text": [
            "$\n",
            "$$\n",
            "$$$$\n"
          ]
        }
      ]
    },
    {
      "cell_type": "code",
      "source": [
        "for i in range(1,11):\n",
        "  print (2 , \"*\", i ,\"=\", i*2 )"
      ],
      "metadata": {
        "colab": {
          "base_uri": "https://localhost:8080/"
        },
        "id": "4HIRy6UAX_bx",
        "outputId": "35b173af-d947-49d2-fa9f-e051404595a3"
      },
      "execution_count": null,
      "outputs": [
        {
          "output_type": "stream",
          "name": "stdout",
          "text": [
            "2 * 1 = 2\n",
            "2 * 2 = 4\n",
            "2 * 3 = 6\n",
            "2 * 4 = 8\n",
            "2 * 5 = 10\n",
            "2 * 6 = 12\n",
            "2 * 7 = 14\n",
            "2 * 8 = 16\n",
            "2 * 9 = 18\n",
            "2 * 10 = 20\n"
          ]
        }
      ]
    },
    {
      "cell_type": "code",
      "source": [
        "for i in range(11):\n",
        "  print (5 , \"*\" , i , \"=\" , 5*i)"
      ],
      "metadata": {
        "colab": {
          "base_uri": "https://localhost:8080/"
        },
        "id": "peTSAzkwUCB-",
        "outputId": "5e8747c1-4e29-466a-bb9f-d5487fb9ed30"
      },
      "execution_count": null,
      "outputs": [
        {
          "output_type": "stream",
          "name": "stdout",
          "text": [
            "5 * 0 = 0\n",
            "5 * 1 = 5\n",
            "5 * 2 = 10\n",
            "5 * 3 = 15\n",
            "5 * 4 = 20\n",
            "5 * 5 = 25\n",
            "5 * 6 = 30\n",
            "5 * 7 = 35\n",
            "5 * 8 = 40\n",
            "5 * 9 = 45\n",
            "5 * 10 = 50\n"
          ]
        }
      ]
    },
    {
      "cell_type": "code",
      "source": [
        "print= (\"sum--> \", sum(range(0,11)))"
      ],
      "metadata": {
        "id": "AYFHCmH5U_Bt"
      },
      "execution_count": null,
      "outputs": []
    },
    {
      "cell_type": "code",
      "source": [
        "a= int(input(\"provide your number: \"))\n",
        "\n",
        "for i in range(0,11):\n",
        "  t = a * i\n",
        "  print ( a , \"*\" , i , \"=\", t)\n",
        "\n"
      ],
      "metadata": {
        "colab": {
          "base_uri": "https://localhost:8080/",
          "height": 211
        },
        "id": "ULFNIU4eV1Ac",
        "outputId": "5abf5205-eb53-4a96-9642-3db6f870044c"
      },
      "execution_count": null,
      "outputs": [
        {
          "name": "stdout",
          "output_type": "stream",
          "text": [
            "provide your number: 5\n"
          ]
        },
        {
          "output_type": "error",
          "ename": "TypeError",
          "evalue": "'tuple' object is not callable",
          "traceback": [
            "\u001b[0;31m---------------------------------------------------------------------------\u001b[0m",
            "\u001b[0;31mTypeError\u001b[0m                                 Traceback (most recent call last)",
            "\u001b[0;32m<ipython-input-18-3067932fa8e5>\u001b[0m in \u001b[0;36m<cell line: 3>\u001b[0;34m()\u001b[0m\n\u001b[1;32m      3\u001b[0m \u001b[0;32mfor\u001b[0m \u001b[0mi\u001b[0m \u001b[0;32min\u001b[0m \u001b[0mrange\u001b[0m\u001b[0;34m(\u001b[0m\u001b[0;36m0\u001b[0m\u001b[0;34m,\u001b[0m\u001b[0;36m11\u001b[0m\u001b[0;34m)\u001b[0m\u001b[0;34m:\u001b[0m\u001b[0;34m\u001b[0m\u001b[0;34m\u001b[0m\u001b[0m\n\u001b[1;32m      4\u001b[0m   \u001b[0mt\u001b[0m \u001b[0;34m=\u001b[0m \u001b[0ma\u001b[0m \u001b[0;34m*\u001b[0m \u001b[0mi\u001b[0m\u001b[0;34m\u001b[0m\u001b[0;34m\u001b[0m\u001b[0m\n\u001b[0;32m----> 5\u001b[0;31m   \u001b[0mprint\u001b[0m \u001b[0;34m(\u001b[0m \u001b[0ma\u001b[0m \u001b[0;34m,\u001b[0m \u001b[0;34m\"*\"\u001b[0m \u001b[0;34m,\u001b[0m \u001b[0mi\u001b[0m \u001b[0;34m,\u001b[0m \u001b[0;34m\"=\"\u001b[0m\u001b[0;34m,\u001b[0m \u001b[0mt\u001b[0m\u001b[0;34m)\u001b[0m\u001b[0;34m\u001b[0m\u001b[0;34m\u001b[0m\u001b[0m\n\u001b[0m\u001b[1;32m      6\u001b[0m \u001b[0;34m\u001b[0m\u001b[0m\n",
            "\u001b[0;31mTypeError\u001b[0m: 'tuple' object is not callable"
          ]
        }
      ]
    },
    {
      "cell_type": "code",
      "source": [
        "a= int(input(\"number to be multiplied: \"))\n",
        "\n",
        "for i in range (0,11):\n",
        "  a= a+1\n",
        "print (a)\n"
      ],
      "metadata": {
        "colab": {
          "base_uri": "https://localhost:8080/"
        },
        "id": "4rEWw3PA9SZM",
        "outputId": "97df6ee1-3ff1-4f61-925a-06e2a8962542"
      },
      "execution_count": null,
      "outputs": [
        {
          "output_type": "stream",
          "name": "stdout",
          "text": [
            "number to be multiplied: 1\n",
            "12\n"
          ]
        }
      ]
    },
    {
      "cell_type": "code",
      "source": [
        "a= int(input(\"enter number one: \"))\n",
        "#b= int(input(\"enter number two: \"))\n",
        "\n",
        "\n",
        "\n",
        "if a%2==0:\n",
        "  print(\"isn't odd\")\n",
        "else:\n",
        "  print(\"isn't even\")"
      ],
      "metadata": {
        "colab": {
          "base_uri": "https://localhost:8080/"
        },
        "id": "8B2j78lrC9pv",
        "outputId": "6f68509f-6433-47eb-ef32-df0cefd75223"
      },
      "execution_count": null,
      "outputs": [
        {
          "output_type": "stream",
          "name": "stdout",
          "text": [
            "enter number one: 2\n",
            "isn't odd\n"
          ]
        }
      ]
    },
    {
      "cell_type": "code",
      "source": [
        "marks= [90,91,92,93]\n",
        "a= input(\"to add what number: \")\n",
        "\n",
        "i=a\n",
        "while i in range(4):\n",
        "  print (i)\n",
        "#print(marks)"
      ],
      "metadata": {
        "colab": {
          "base_uri": "https://localhost:8080/"
        },
        "id": "ixrkpTSNqw5N",
        "outputId": "c2e7c501-88a2-4a0c-d8a5-b1f43653713a"
      },
      "execution_count": null,
      "outputs": [
        {
          "name": "stdout",
          "output_type": "stream",
          "text": [
            "to add what number: 1\n"
          ]
        }
      ]
    },
    {
      "cell_type": "code",
      "source": [
        "a = input(\"Enter First String : \")\n",
        "b = input(\"Enter Second String: \")\n",
        "\n",
        "if a == b:\n",
        "\tprint (\"a == b\")\n",
        "elif a >= b:\n",
        "\tprint (\"a > b\")\n",
        "else:\n",
        "\tprint (\"a < b\")\n"
      ],
      "metadata": {
        "colab": {
          "base_uri": "https://localhost:8080/"
        },
        "id": "MJsf2cnL7eHU",
        "outputId": "32bcc8ce-a60b-497f-fdcd-741f5f38d887"
      },
      "execution_count": null,
      "outputs": [
        {
          "output_type": "stream",
          "name": "stdout",
          "text": [
            "Enter First String : ayush\n",
            "Enter Second String: yashika\n",
            "a < b\n"
          ]
        }
      ]
    },
    {
      "cell_type": "code",
      "source": [
        "a= input(\"number one: \")\n",
        "b= input(\"number two: \")\n",
        "\n",
        "c= (a,b)\n",
        "print(max(c))"
      ],
      "metadata": {
        "colab": {
          "base_uri": "https://localhost:8080/"
        },
        "id": "obihFhPF7m-3",
        "outputId": "87372efc-1e0d-48d5-d234-ee60447d2b4b"
      },
      "execution_count": null,
      "outputs": [
        {
          "output_type": "stream",
          "name": "stdout",
          "text": [
            "number one: 15\n",
            "number two: 70\n",
            "70\n"
          ]
        }
      ]
    },
    {
      "cell_type": "code",
      "source": [
        "def item (a,b):\n",
        "\tc=a+b\n",
        "\treturn c\n",
        "\n",
        "a= int(input(\"enter a: \"))\n",
        "b= int(input(\"enter b: \"))\n",
        "\n",
        "print (item)"
      ],
      "metadata": {
        "colab": {
          "base_uri": "https://localhost:8080/"
        },
        "id": "VEbN7qiz80zf",
        "outputId": "7311cacd-cd03-4b9d-e215-c43684ac4cdb"
      },
      "execution_count": null,
      "outputs": [
        {
          "output_type": "stream",
          "name": "stdout",
          "text": [
            "enter a: 10\n",
            "enter b: 20\n",
            "<function item at 0x7f99a02b1000>\n"
          ]
        }
      ]
    },
    {
      "cell_type": "code",
      "source": [
        "def item (n):\n",
        "\ts= range(n+1)\n",
        "\treturn s\n",
        "\n",
        "n= int(input(\"gimme number: \"))\n",
        "\n",
        "print ( item (n))\n",
        "#print (\"AddN(20)  --> \", AddN(20))\n",
        "#print (\"AddN(50)  --> \", AddN(50))\n",
        "#print (\"AddN(200) --> \", AddN(200))"
      ],
      "metadata": {
        "colab": {
          "base_uri": "https://localhost:8080/"
        },
        "id": "w2Q-YUdm-tAs",
        "outputId": "fecc11db-2409-48d2-dfd7-775a0d9600dc"
      },
      "execution_count": null,
      "outputs": [
        {
          "output_type": "stream",
          "name": "stdout",
          "text": [
            "gimme number: 10\n",
            "range(0, 11)\n"
          ]
        }
      ]
    },
    {
      "cell_type": "code",
      "source": [
        "\n",
        "def AddN(n):\n",
        "\ts= sum(range(n+1))\n",
        "\treturn s\n",
        "\n",
        "print (\"AddN(10)  --> \", AddN(10))"
      ],
      "metadata": {
        "colab": {
          "base_uri": "https://localhost:8080/"
        },
        "id": "OmHKS_5Yv5sb",
        "outputId": "45fff3cb-bbd9-4cdd-fe17-9d6b7dbb6956"
      },
      "execution_count": null,
      "outputs": [
        {
          "output_type": "stream",
          "name": "stdout",
          "text": [
            "AddN(10)  -->  55\n"
          ]
        }
      ]
    },
    {
      "cell_type": "code",
      "source": [
        "var = 'Hello World!'\n",
        "print ( var)\n",
        "#print (\"var[0]   --> \", var[0])\n",
        "#print (\"var[1:5] --> \", var[1:5])\n",
        "#print (\"var[:-5] --> \", var[:-5])"
      ],
      "metadata": {
        "colab": {
          "base_uri": "https://localhost:8080/"
        },
        "id": "RTHeBVW8xrrS",
        "outputId": "ea331500-b798-4e69-ce18-20d7fc9b0511"
      },
      "execution_count": null,
      "outputs": [
        {
          "output_type": "stream",
          "name": "stdout",
          "text": [
            "Hello World!\n"
          ]
        }
      ]
    },
    {
      "cell_type": "code",
      "source": [
        "s1=\"Indian Army\"\n",
        "s2=\"malayalam\"\n",
        "s3=\"madam\"\n",
        "s4=\"teacher\"\n",
        "print (s1==s1[::-1])\n"
      ],
      "metadata": {
        "colab": {
          "base_uri": "https://localhost:8080/"
        },
        "id": "2UgGXiIl0wOZ",
        "outputId": "54a545ed-de10-4994-8b4f-d15fe4841e85"
      },
      "execution_count": null,
      "outputs": [
        {
          "output_type": "stream",
          "name": "stdout",
          "text": [
            "False\n"
          ]
        }
      ]
    },
    {
      "cell_type": "code",
      "source": [
        "import random as y\n",
        "print (y.randint(-10,-1))"
      ],
      "metadata": {
        "colab": {
          "base_uri": "https://localhost:8080/"
        },
        "id": "sPAG1Bag5aW2",
        "outputId": "71872e99-01f0-4b89-cf26-e016e99baf29"
      },
      "execution_count": null,
      "outputs": [
        {
          "output_type": "stream",
          "name": "stdout",
          "text": [
            "-2\n"
          ]
        }
      ]
    },
    {
      "cell_type": "code",
      "source": [
        "import random as r\n",
        "\n",
        "A=[1, 2, 3, 4, 5, 6, 7, 8, 9, 10]\n",
        "\n",
        "print (r.sample(A, 2))\n",
        "#print (r.sample(A, 2))\n",
        "#print (r.sample(range(0,100), 2))\n",
        "#print (r.sample(range(-100,100), 5))"
      ],
      "metadata": {
        "colab": {
          "base_uri": "https://localhost:8080/"
        },
        "id": "Spq6I5TA6pLR",
        "outputId": "20a8c579-2f58-4c18-fd0a-e371b12ad554"
      },
      "execution_count": null,
      "outputs": [
        {
          "output_type": "stream",
          "name": "stdout",
          "text": [
            "[5, 7]\n"
          ]
        }
      ]
    },
    {
      "cell_type": "code",
      "source": [
        "import string as s\n",
        "import random as r\n",
        "print (\"String        --> \",s.ascii_letters)\n",
        "\n",
        "passwd=r.sample(s.ascii_letters, 6)\n",
        "print (\"Selected Char --> \",passwd)\n",
        "\n"
      ],
      "metadata": {
        "colab": {
          "base_uri": "https://localhost:8080/"
        },
        "id": "usGnMGbw7Tnf",
        "outputId": "b8d29673-7095-41d9-b36a-c03a1575ea67"
      },
      "execution_count": null,
      "outputs": [
        {
          "output_type": "stream",
          "name": "stdout",
          "text": [
            "String        -->  abcdefghijklmnopqrstuvwxyzABCDEFGHIJKLMNOPQRSTUVWXYZ\n",
            "Selected Char -->  ['h', 'V', 'd', 'Y', 's', 'N']\n"
          ]
        }
      ]
    },
    {
      "cell_type": "code",
      "source": [
        "import string as s\n",
        "#import random as r\n",
        "print (s.digits)"
      ],
      "metadata": {
        "colab": {
          "base_uri": "https://localhost:8080/"
        },
        "id": "ZIKaCW6E9HrJ",
        "outputId": "05ff0917-5ff2-4ba6-d2af-3a4ff91b93df"
      },
      "execution_count": null,
      "outputs": [
        {
          "output_type": "stream",
          "name": "stdout",
          "text": [
            "0123456789\n"
          ]
        }
      ]
    },
    {
      "cell_type": "code",
      "source": [
        "L=[3, 6, 9, 12, 5, 3, 2]\n",
        "\n",
        "\n",
        "print (\"\\nBefore Sort            --> \", L)\n",
        "L.sort()\n",
        "\n",
        "print (\"After Sort (Asending)  --> \", L)\n",
        "\n",
        "L.sort(reverse=True)\n",
        "print (\"After Sort (Desending) --> \", L)"
      ],
      "metadata": {
        "colab": {
          "base_uri": "https://localhost:8080/"
        },
        "id": "Xk4cnaehPBn7",
        "outputId": "3f04a9cc-bce7-4f89-f5a4-5db5199ee8ea"
      },
      "execution_count": null,
      "outputs": [
        {
          "output_type": "stream",
          "name": "stdout",
          "text": [
            "\n",
            "Before Sort            -->  [3, 6, 9, 12, 5, 3, 2]\n",
            "After Sort (Asending)  -->  [2, 3, 3, 5, 6, 9, 12]\n",
            "After Sort (Desending) -->  [12, 9, 6, 5, 3, 3, 2]\n"
          ]
        }
      ]
    },
    {
      "cell_type": "code",
      "source": [
        "file= input(\"what file  to open: \")\n",
        "\n",
        "try:\n",
        "  fp=open(file)\n",
        "\n",
        "except:\n",
        "  print(\"file not found\")"
      ],
      "metadata": {
        "colab": {
          "base_uri": "https://localhost:8080/"
        },
        "id": "tOwL2Ml6T0d1",
        "outputId": "60bfde46-f698-4377-c672-fcb4e644e4df"
      },
      "execution_count": null,
      "outputs": [
        {
          "output_type": "stream",
          "name": "stdout",
          "text": [
            "what file  to open: appu.txt\n",
            "file not found\n"
          ]
        }
      ]
    },
    {
      "cell_type": "code",
      "source": [
        "l= [\"aaloo\", \"kchaaloo\", 100, 69]\n",
        "i=0\n",
        "while i<len(l):\n",
        "\n",
        "  print (l[i])\n",
        "  i+=1"
      ],
      "metadata": {
        "colab": {
          "base_uri": "https://localhost:8080/"
        },
        "id": "VwR3gnsdC_k2",
        "outputId": "0eb3a14b-f069-4f36-fa2f-a8012288fb46"
      },
      "execution_count": null,
      "outputs": [
        {
          "output_type": "stream",
          "name": "stdout",
          "text": [
            "aaloo\n",
            "kchaaloo\n",
            "100\n",
            "69\n"
          ]
        }
      ]
    },
    {
      "cell_type": "code",
      "source": [
        "CGPA={1:8.9, 2:5.6, 4:6.7, 7:9.1, 8:5.3}\n",
        "\n",
        "\n",
        "print (\"CGPA of 1       --> \", [1])\n",
        "print (\"CGPA of 4       --> \", CGPA[4])\n",
        "print (\"CGPA of 7       --> \", CGPA[7])\n",
        "print (\"CGPA of 3       --> \", CGPA[3])"
      ],
      "metadata": {
        "colab": {
          "base_uri": "https://localhost:8080/",
          "height": 228
        },
        "id": "uD30BWB_LhCw",
        "outputId": "2c416299-013d-4a37-a831-7bc617cac262"
      },
      "execution_count": null,
      "outputs": [
        {
          "output_type": "stream",
          "name": "stdout",
          "text": [
            "CGPA of 1       -->  [1]\n",
            "CGPA of 4       -->  6.7\n",
            "CGPA of 7       -->  9.1\n"
          ]
        },
        {
          "output_type": "error",
          "ename": "KeyError",
          "evalue": "3",
          "traceback": [
            "\u001b[0;31m---------------------------------------------------------------------------\u001b[0m",
            "\u001b[0;31mKeyError\u001b[0m                                  Traceback (most recent call last)",
            "\u001b[0;32m<ipython-input-17-38f65231f6c5>\u001b[0m in \u001b[0;36m<cell line: 7>\u001b[0;34m()\u001b[0m\n\u001b[1;32m      5\u001b[0m \u001b[0mprint\u001b[0m \u001b[0;34m(\u001b[0m\u001b[0;34m\"CGPA of 4       --> \"\u001b[0m\u001b[0;34m,\u001b[0m \u001b[0mCGPA\u001b[0m\u001b[0;34m[\u001b[0m\u001b[0;36m4\u001b[0m\u001b[0;34m]\u001b[0m\u001b[0;34m)\u001b[0m\u001b[0;34m\u001b[0m\u001b[0;34m\u001b[0m\u001b[0m\n\u001b[1;32m      6\u001b[0m \u001b[0mprint\u001b[0m \u001b[0;34m(\u001b[0m\u001b[0;34m\"CGPA of 7       --> \"\u001b[0m\u001b[0;34m,\u001b[0m \u001b[0mCGPA\u001b[0m\u001b[0;34m[\u001b[0m\u001b[0;36m7\u001b[0m\u001b[0;34m]\u001b[0m\u001b[0;34m)\u001b[0m\u001b[0;34m\u001b[0m\u001b[0;34m\u001b[0m\u001b[0m\n\u001b[0;32m----> 7\u001b[0;31m \u001b[0mprint\u001b[0m \u001b[0;34m(\u001b[0m\u001b[0;34m\"CGPA of 3       --> \"\u001b[0m\u001b[0;34m,\u001b[0m \u001b[0mCGPA\u001b[0m\u001b[0;34m[\u001b[0m\u001b[0;36m3\u001b[0m\u001b[0;34m]\u001b[0m\u001b[0;34m)\u001b[0m\u001b[0;34m\u001b[0m\u001b[0;34m\u001b[0m\u001b[0m\n\u001b[0m",
            "\u001b[0;31mKeyError\u001b[0m: 3"
          ]
        }
      ]
    },
    {
      "cell_type": "code",
      "source": [
        "T = (\"Pratham\", 'Sharma', 3.14, 3)\n",
        "i=0\n",
        "while i<len(T):\n",
        "  print(T[i])\n",
        "  i+=1"
      ],
      "metadata": {
        "colab": {
          "base_uri": "https://localhost:8080/"
        },
        "id": "Q53nHWK4NRNj",
        "outputId": "5c1c87eb-84d1-46ce-eb93-8a40e775b8a8"
      },
      "execution_count": null,
      "outputs": [
        {
          "output_type": "stream",
          "name": "stdout",
          "text": [
            "Pratham\n",
            "Sharma\n",
            "3.14\n",
            "3\n"
          ]
        }
      ]
    },
    {
      "cell_type": "code",
      "source": [
        "T = (3, 6, 9, 12, 5, 3, 2)\n",
        "\n",
        "print(\"1st elemt is: \", sum(T))"
      ],
      "metadata": {
        "colab": {
          "base_uri": "https://localhost:8080/"
        },
        "id": "2w9Q5Xy3OK1Z",
        "outputId": "7ce16e73-aab8-4945-905c-eb52f20fc3fb"
      },
      "execution_count": null,
      "outputs": [
        {
          "output_type": "stream",
          "name": "stdout",
          "text": [
            "1st elemt is:  40\n"
          ]
        }
      ]
    },
    {
      "cell_type": "code",
      "source": [
        "T1 = (3, 6, 9)\n",
        "T2 = (12, 5, 3, 2)\n",
        "\n",
        "t3= T1[:1]+T2[1:3]\n",
        "print(t3)"
      ],
      "metadata": {
        "colab": {
          "base_uri": "https://localhost:8080/"
        },
        "id": "HKcxtlogOxBt",
        "outputId": "fdec4093-2c89-4aea-f52d-7ddbcd70e1ac"
      },
      "execution_count": null,
      "outputs": [
        {
          "output_type": "stream",
          "name": "stdout",
          "text": [
            "(3, 5, 3)\n"
          ]
        }
      ]
    },
    {
      "cell_type": "code",
      "source": [],
      "metadata": {
        "id": "PG-aT2VOxoVb"
      },
      "execution_count": null,
      "outputs": []
    },
    {
      "cell_type": "code",
      "source": [
        "fp=open('appu.txt','w')\n",
        "\n",
        "for  i in range(1,11):\n",
        "\tfp.write(str(i) + \"\\n\")\n",
        "\n",
        "\n",
        "\n",
        "print (\"Writing done !! \\nOpen result.txt to view the content\")\n"
      ],
      "metadata": {
        "colab": {
          "base_uri": "https://localhost:8080/"
        },
        "id": "k4pv3LiPQpx8",
        "outputId": "ce7f2a52-d9d4-453f-b763-45393f326bdb"
      },
      "execution_count": null,
      "outputs": [
        {
          "output_type": "stream",
          "name": "stdout",
          "text": [
            "Writing done !! \n",
            "Open result.txt to view the content\n"
          ]
        }
      ]
    },
    {
      "cell_type": "code",
      "source": [
        "data = []"
      ],
      "metadata": {
        "id": "y2bjf5tsxp4E"
      },
      "execution_count": null,
      "outputs": []
    },
    {
      "cell_type": "code",
      "source": [
        "with open('data.txt','r') as file:\n",
        "  for line in file:\n",
        "    studentEntry = tuple(line.strip().split(','))\n",
        "    data.append(studentEntry)"
      ],
      "metadata": {
        "id": "qU6xK-BZx5Bz"
      },
      "execution_count": null,
      "outputs": []
    },
    {
      "cell_type": "code",
      "source": [
        "print(data)"
      ],
      "metadata": {
        "colab": {
          "base_uri": "https://localhost:8080/"
        },
        "id": "ZPGT-wPky0NH",
        "outputId": "3aef256d-ff26-412e-be36-b00d2a90d16c"
      },
      "execution_count": null,
      "outputs": [
        {
          "output_type": "stream",
          "name": "stdout",
          "text": [
            "[('Avani', ' 1004', '  168'), ('Aakshi     1010', ' 170'), ('Yashika    1004', ' 250'), ('Prina', ' 1009', ' 199'), ('Pavit', ' 1011', '     175'), ('Avani        1004         168',), ('Aakshi     1010        170',), ('Yashika    1004        250',), ('Prina        1009        199',), ('Pavit        1011            175',)]\n"
          ]
        }
      ]
    },
    {
      "cell_type": "code",
      "source": [
        "Readfp=open('data.txt')\t\t# Open the file in reading mode\n",
        "\n",
        "for line in Readfp:\n",
        "\n",
        "\n",
        "\n",
        "Readfp.close()\n",
        "\n",
        "print(\"printed: \")"
      ],
      "metadata": {
        "colab": {
          "base_uri": "https://localhost:8080/",
          "height": 106
        },
        "id": "OLtzDTJ4zrlr",
        "outputId": "7f270f15-9871-417a-9f1f-1d2ca9652567"
      },
      "execution_count": null,
      "outputs": [
        {
          "output_type": "error",
          "ename": "IndentationError",
          "evalue": "expected an indented block after 'for' statement on line 3 (<ipython-input-10-d26f43e6aef0>, line 7)",
          "traceback": [
            "\u001b[0;36m  File \u001b[0;32m\"<ipython-input-10-d26f43e6aef0>\"\u001b[0;36m, line \u001b[0;32m7\u001b[0m\n\u001b[0;31m    Readfp.close()\u001b[0m\n\u001b[0m    ^\u001b[0m\n\u001b[0;31mIndentationError\u001b[0m\u001b[0;31m:\u001b[0m expected an indented block after 'for' statement on line 3\n"
          ]
        }
      ]
    },
    {
      "cell_type": "code",
      "source": [
        "T = (\"Pratham\", 'Sharma', 3.14, 3)\n",
        "\n",
        "n= int(input(\"what to remove: \"))\n",
        "\n",
        "T1 = list(T)\n",
        "del T1[n]\n",
        "\n",
        "T = tuple(T1)\n",
        "\n",
        "print (\"After Delete -->\", T)"
      ],
      "metadata": {
        "colab": {
          "base_uri": "https://localhost:8080/"
        },
        "id": "LLAqRVgb2zk3",
        "outputId": "4ea4dc16-fe10-4c7d-fa6a-bee722f75bfe"
      },
      "execution_count": null,
      "outputs": [
        {
          "output_type": "stream",
          "name": "stdout",
          "text": [
            "what to remove: 1\n",
            "After Delete --> ('Pratham', 3.14, 3)\n"
          ]
        }
      ]
    },
    {
      "cell_type": "code",
      "source": [
        "a = set(['A', 'B', 'E', 'F' ])\n",
        "\n",
        "a.pop()\n",
        "print (\"Set After pop        --> \", a)\n",
        "\n",
        "a.pop()\n",
        "print (\"Set After pop        --> \", a)\n",
        "\n"
      ],
      "metadata": {
        "colab": {
          "base_uri": "https://localhost:8080/"
        },
        "id": "8QnTeKLU4t5g",
        "outputId": "99910f58-07d3-4a73-ec03-02398d2c6a86"
      },
      "execution_count": null,
      "outputs": [
        {
          "output_type": "stream",
          "name": "stdout",
          "text": [
            "Set After pop        -->  {'A', 'F', 'B'}\n",
            "Set After pop        -->  {'F', 'B'}\n"
          ]
        }
      ]
    },
    {
      "cell_type": "code",
      "source": [
        "L = list((\"abc\",44))\n",
        "l = []\n",
        "for i in range(0,2):\n",
        " l[i] = input()\n",
        "\n",
        "print(0)\n"
      ],
      "metadata": {
        "colab": {
          "base_uri": "https://localhost:8080/",
          "height": 228
        },
        "id": "xRvdNMku7syE",
        "outputId": "6e929bc2-cd25-4b32-ebe3-1e3527101028"
      },
      "execution_count": null,
      "outputs": [
        {
          "name": "stdout",
          "output_type": "stream",
          "text": [
            "1\n"
          ]
        },
        {
          "output_type": "error",
          "ename": "IndexError",
          "evalue": "list assignment index out of range",
          "traceback": [
            "\u001b[0;31m---------------------------------------------------------------------------\u001b[0m",
            "\u001b[0;31mIndexError\u001b[0m                                Traceback (most recent call last)",
            "\u001b[0;32m<ipython-input-13-88039e153662>\u001b[0m in \u001b[0;36m<cell line: 3>\u001b[0;34m()\u001b[0m\n\u001b[1;32m      2\u001b[0m \u001b[0ml\u001b[0m \u001b[0;34m=\u001b[0m \u001b[0;34m[\u001b[0m\u001b[0;34m]\u001b[0m\u001b[0;34m\u001b[0m\u001b[0;34m\u001b[0m\u001b[0m\n\u001b[1;32m      3\u001b[0m \u001b[0;32mfor\u001b[0m \u001b[0mi\u001b[0m \u001b[0;32min\u001b[0m \u001b[0mrange\u001b[0m\u001b[0;34m(\u001b[0m\u001b[0;36m0\u001b[0m\u001b[0;34m,\u001b[0m\u001b[0;36m2\u001b[0m\u001b[0;34m)\u001b[0m\u001b[0;34m:\u001b[0m\u001b[0;34m\u001b[0m\u001b[0;34m\u001b[0m\u001b[0m\n\u001b[0;32m----> 4\u001b[0;31m  \u001b[0ml\u001b[0m\u001b[0;34m[\u001b[0m\u001b[0mi\u001b[0m\u001b[0;34m]\u001b[0m \u001b[0;34m=\u001b[0m \u001b[0minput\u001b[0m\u001b[0;34m(\u001b[0m\u001b[0;34m)\u001b[0m\u001b[0;34m\u001b[0m\u001b[0;34m\u001b[0m\u001b[0m\n\u001b[0m\u001b[1;32m      5\u001b[0m \u001b[0;34m\u001b[0m\u001b[0m\n\u001b[1;32m      6\u001b[0m \u001b[0mprint\u001b[0m\u001b[0;34m(\u001b[0m\u001b[0ml\u001b[0m\u001b[0;34m)\u001b[0m\u001b[0;34m\u001b[0m\u001b[0;34m\u001b[0m\u001b[0m\n",
            "\u001b[0;31mIndexError\u001b[0m: list assignment index out of range"
          ]
        }
      ]
    },
    {
      "cell_type": "code",
      "source": [
        "fp=open('set.txt','w')\t# Open the file in writing mode\n",
        "for  i in range(1,11):\n",
        "\tfp.write(str(i) + \"\\n\")\t# Writing to the file line by line\n",
        "fp.close()\n",
        "\n",
        "print (\"Writing done !! \\nOpen result.txt to view the content\")"
      ],
      "metadata": {
        "colab": {
          "base_uri": "https://localhost:8080/"
        },
        "id": "xdCLbOMu_KR-",
        "outputId": "729f360b-9715-4ad9-df46-ca4cde43d416"
      },
      "execution_count": null,
      "outputs": [
        {
          "output_type": "stream",
          "name": "stdout",
          "text": [
            "Writing done !! \n",
            "Open result.txt to view the content\n"
          ]
        }
      ]
    },
    {
      "cell_type": "code",
      "source": [
        "data=[]"
      ],
      "metadata": {
        "id": "ndRoj3l3EedN"
      },
      "execution_count": null,
      "outputs": []
    },
    {
      "cell_type": "code",
      "source": [
        "with open('database1000.xls','w') as file:\n",
        "  for line in file:\n",
        "    studentEntry = tuple(line.strip().split(','))\n",
        "    data.append(studentEntry)"
      ],
      "metadata": {
        "id": "FBQgqZXFEzb6"
      },
      "execution_count": null,
      "outputs": []
    },
    {
      "cell_type": "code",
      "source": [
        "fp= open('set.txt', 'w')\n",
        "for i in range (0,20):\n",
        "  fp.write(str(i)+ \"\\n\")\n",
        "fp.close()\n",
        "print('done')"
      ],
      "metadata": {
        "colab": {
          "base_uri": "https://localhost:8080/"
        },
        "id": "8g9q_UNfGTn1",
        "outputId": "f22dc6e2-6c09-4c07-9151-0495d671b8c3"
      },
      "execution_count": null,
      "outputs": [
        {
          "output_type": "stream",
          "name": "stdout",
          "text": [
            "done\n"
          ]
        }
      ]
    },
    {
      "cell_type": "code",
      "source": [],
      "metadata": {
        "id": "8-RWjAXgjymA"
      },
      "execution_count": null,
      "outputs": []
    },
    {
      "cell_type": "code",
      "source": [
        "fp= open('data.txt', 'w')\n",
        "n = len (data.txt)\n",
        "for i in range(0,n):\n",
        "  print(data.txt[i])\n"
      ],
      "metadata": {
        "colab": {
          "base_uri": "https://localhost:8080/",
          "height": 193
        },
        "id": "_73y9sn6I14v",
        "outputId": "687ee4ec-b457-44c8-a653-51029f89cf20"
      },
      "execution_count": null,
      "outputs": [
        {
          "output_type": "error",
          "ename": "AttributeError",
          "evalue": "'list' object has no attribute 'txt'",
          "traceback": [
            "\u001b[0;31m---------------------------------------------------------------------------\u001b[0m",
            "\u001b[0;31mAttributeError\u001b[0m                            Traceback (most recent call last)",
            "\u001b[0;32m<ipython-input-24-0889f85c90f6>\u001b[0m in \u001b[0;36m<cell line: 2>\u001b[0;34m()\u001b[0m\n\u001b[1;32m      1\u001b[0m \u001b[0mfp\u001b[0m\u001b[0;34m=\u001b[0m \u001b[0mopen\u001b[0m\u001b[0;34m(\u001b[0m\u001b[0;34m'data.txt'\u001b[0m\u001b[0;34m,\u001b[0m \u001b[0;34m'w'\u001b[0m\u001b[0;34m)\u001b[0m\u001b[0;34m\u001b[0m\u001b[0;34m\u001b[0m\u001b[0m\n\u001b[0;32m----> 2\u001b[0;31m \u001b[0mn\u001b[0m \u001b[0;34m=\u001b[0m \u001b[0mlen\u001b[0m\u001b[0;34m(\u001b[0m\u001b[0mdata\u001b[0m\u001b[0;34m.\u001b[0m\u001b[0mtxt\u001b[0m\u001b[0;34m)\u001b[0m\u001b[0;34m\u001b[0m\u001b[0;34m\u001b[0m\u001b[0m\n\u001b[0m\u001b[1;32m      3\u001b[0m \u001b[0;32mfor\u001b[0m \u001b[0mi\u001b[0m \u001b[0;32min\u001b[0m \u001b[0mrange\u001b[0m\u001b[0;34m(\u001b[0m\u001b[0;36m0\u001b[0m\u001b[0;34m,\u001b[0m\u001b[0mn\u001b[0m\u001b[0;34m)\u001b[0m\u001b[0;34m:\u001b[0m\u001b[0;34m\u001b[0m\u001b[0;34m\u001b[0m\u001b[0m\n\u001b[1;32m      4\u001b[0m   \u001b[0mprint\u001b[0m\u001b[0;34m(\u001b[0m\u001b[0mdata\u001b[0m\u001b[0;34m.\u001b[0m\u001b[0mtxt\u001b[0m\u001b[0;34m[\u001b[0m\u001b[0mi\u001b[0m\u001b[0;34m]\u001b[0m\u001b[0;34m)\u001b[0m\u001b[0;34m\u001b[0m\u001b[0;34m\u001b[0m\u001b[0m\n",
            "\u001b[0;31mAttributeError\u001b[0m: 'list' object has no attribute 'txt'"
          ]
        }
      ]
    },
    {
      "cell_type": "code",
      "source": [
        "fp= open('data.txt', 'w')\n",
        "for i in len(fp):\n",
        "    print(L[i])\n",
        "\n"
      ],
      "metadata": {
        "colab": {
          "base_uri": "https://localhost:8080/",
          "height": 193
        },
        "id": "6EWs1OB1MCr-",
        "outputId": "3ccda1d5-19f8-479a-dd5d-070e621856b9"
      },
      "execution_count": null,
      "outputs": [
        {
          "output_type": "error",
          "ename": "TypeError",
          "evalue": "object of type '_io.TextIOWrapper' has no len()",
          "traceback": [
            "\u001b[0;31m---------------------------------------------------------------------------\u001b[0m",
            "\u001b[0;31mTypeError\u001b[0m                                 Traceback (most recent call last)",
            "\u001b[0;32m<ipython-input-5-00236a8c2fb2>\u001b[0m in \u001b[0;36m<cell line: 2>\u001b[0;34m()\u001b[0m\n\u001b[1;32m      1\u001b[0m \u001b[0mfp\u001b[0m\u001b[0;34m=\u001b[0m \u001b[0mopen\u001b[0m\u001b[0;34m(\u001b[0m\u001b[0;34m'data.txt'\u001b[0m\u001b[0;34m,\u001b[0m \u001b[0;34m'w'\u001b[0m\u001b[0;34m)\u001b[0m\u001b[0;34m\u001b[0m\u001b[0;34m\u001b[0m\u001b[0m\n\u001b[0;32m----> 2\u001b[0;31m \u001b[0;32mfor\u001b[0m \u001b[0mi\u001b[0m \u001b[0;32min\u001b[0m \u001b[0mlen\u001b[0m\u001b[0;34m(\u001b[0m\u001b[0mfp\u001b[0m\u001b[0;34m)\u001b[0m\u001b[0;34m:\u001b[0m\u001b[0;34m\u001b[0m\u001b[0;34m\u001b[0m\u001b[0m\n\u001b[0m\u001b[1;32m      3\u001b[0m     \u001b[0mprint\u001b[0m\u001b[0;34m(\u001b[0m\u001b[0mL\u001b[0m\u001b[0;34m[\u001b[0m\u001b[0mi\u001b[0m\u001b[0;34m]\u001b[0m\u001b[0;34m)\u001b[0m\u001b[0;34m\u001b[0m\u001b[0;34m\u001b[0m\u001b[0m\n\u001b[1;32m      4\u001b[0m \u001b[0;34m\u001b[0m\u001b[0m\n",
            "\u001b[0;31mTypeError\u001b[0m: object of type '_io.TextIOWrapper' has no len()"
          ]
        }
      ]
    },
    {
      "cell_type": "code",
      "source": [
        "L = [[\"Avani\" ,\t1004,\t  168],[\"Aakshi\", 1010, 170],[\"Yashika\",1004,250],[\"Prina\", 1009, 199],[\"Pavit\",1011,175]]\n",
        "n = 5\n",
        "\n",
        "for i in range(0,n):\n",
        " print(L[i])\n",
        "\n",
        "std = input(\"Who do you want to update?\")\n",
        "marks = input(\"Enter new marks: \")\n",
        "\n",
        "for i in range(0,n):\n",
        " if(L[i][0]==std):\n",
        "   L[i][2]=marks\n",
        "\n",
        "print(\"Updated database\")\n",
        "for i in range(0,n):\n",
        " print(L[i])"
      ],
      "metadata": {
        "colab": {
          "base_uri": "https://localhost:8080/"
        },
        "id": "AavSTgAt3EQ6",
        "outputId": "ba42c94e-673c-4ebc-f9d6-3b8d7ccb1bc4"
      },
      "execution_count": null,
      "outputs": [
        {
          "output_type": "stream",
          "name": "stdout",
          "text": [
            "['Avani', 1004, 168]\n",
            "['Aakshi', 1010, 170]\n",
            "['Yashika', 1004, 250]\n",
            "['Prina', 1009, 199]\n",
            "['Pavit', 1011, 175]\n",
            "Who do you want to update?aakshi\n",
            "Enter new marks: 200\n",
            "Updated database\n",
            "['Avani', 1004, 168]\n",
            "['Aakshi', 1010, 170]\n",
            "['Yashika', 1004, 250]\n",
            "['Prina', 1009, 199]\n",
            "['Pavit', 1011, 175]\n"
          ]
        }
      ]
    },
    {
      "cell_type": "code",
      "source": [
        "data=[]"
      ],
      "metadata": {
        "id": "vyKQ8MJ63eA9"
      },
      "execution_count": null,
      "outputs": []
    },
    {
      "cell_type": "code",
      "source": [
        "with open('data.txt','r') as file:\n",
        "  for line in file:\n",
        "    Avani = tuple(line.strip().split(','))\n",
        "    data.append(Avani)"
      ],
      "metadata": {
        "id": "gWlCj_dI3mlu"
      },
      "execution_count": null,
      "outputs": []
    },
    {
      "cell_type": "code",
      "source": [
        "with open(\"data.txt\", \"r\") as file:\n",
        "    # Read lines from the file and convert them to integers\n",
        "    numbers = [int(line.strip()) for line in file]\n",
        "\n",
        "# Calculate the sum of the numbers\n",
        "total_sum = sum(numbers)\n",
        "\n",
        "# Display the sum\n",
        "print(f\"Sum of numbers: {total_sum}\")"
      ],
      "metadata": {
        "colab": {
          "base_uri": "https://localhost:8080/",
          "height": 349
        },
        "id": "JqqqzOr3jzyP",
        "outputId": "6a35e59f-31c0-40d6-a095-d7dd69c4ba56"
      },
      "execution_count": null,
      "outputs": [
        {
          "output_type": "error",
          "ename": "ValueError",
          "evalue": "invalid literal for int() with base 10: 'Avani        1004         168'",
          "traceback": [
            "\u001b[0;31m---------------------------------------------------------------------------\u001b[0m",
            "\u001b[0;31mValueError\u001b[0m                                Traceback (most recent call last)",
            "\u001b[0;32m<ipython-input-1-e7bf1c7b948c>\u001b[0m in \u001b[0;36m<cell line: 1>\u001b[0;34m()\u001b[0m\n\u001b[1;32m      1\u001b[0m \u001b[0;32mwith\u001b[0m \u001b[0mopen\u001b[0m\u001b[0;34m(\u001b[0m\u001b[0;34m\"data.txt\"\u001b[0m\u001b[0;34m,\u001b[0m \u001b[0;34m\"r\"\u001b[0m\u001b[0;34m)\u001b[0m \u001b[0;32mas\u001b[0m \u001b[0mfile\u001b[0m\u001b[0;34m:\u001b[0m\u001b[0;34m\u001b[0m\u001b[0;34m\u001b[0m\u001b[0m\n\u001b[1;32m      2\u001b[0m     \u001b[0;31m# Read lines from the file and convert them to integers\u001b[0m\u001b[0;34m\u001b[0m\u001b[0;34m\u001b[0m\u001b[0m\n\u001b[0;32m----> 3\u001b[0;31m     \u001b[0mnumbers\u001b[0m \u001b[0;34m=\u001b[0m \u001b[0;34m[\u001b[0m\u001b[0mint\u001b[0m\u001b[0;34m(\u001b[0m\u001b[0mline\u001b[0m\u001b[0;34m.\u001b[0m\u001b[0mstrip\u001b[0m\u001b[0;34m(\u001b[0m\u001b[0;34m)\u001b[0m\u001b[0;34m)\u001b[0m \u001b[0;32mfor\u001b[0m \u001b[0mline\u001b[0m \u001b[0;32min\u001b[0m \u001b[0mfile\u001b[0m\u001b[0;34m]\u001b[0m\u001b[0;34m\u001b[0m\u001b[0;34m\u001b[0m\u001b[0m\n\u001b[0m\u001b[1;32m      4\u001b[0m \u001b[0;34m\u001b[0m\u001b[0m\n\u001b[1;32m      5\u001b[0m \u001b[0;31m# Calculate the sum of the numbers\u001b[0m\u001b[0;34m\u001b[0m\u001b[0;34m\u001b[0m\u001b[0m\n",
            "\u001b[0;32m<ipython-input-1-e7bf1c7b948c>\u001b[0m in \u001b[0;36m<listcomp>\u001b[0;34m(.0)\u001b[0m\n\u001b[1;32m      1\u001b[0m \u001b[0;32mwith\u001b[0m \u001b[0mopen\u001b[0m\u001b[0;34m(\u001b[0m\u001b[0;34m\"data.txt\"\u001b[0m\u001b[0;34m,\u001b[0m \u001b[0;34m\"r\"\u001b[0m\u001b[0;34m)\u001b[0m \u001b[0;32mas\u001b[0m \u001b[0mfile\u001b[0m\u001b[0;34m:\u001b[0m\u001b[0;34m\u001b[0m\u001b[0;34m\u001b[0m\u001b[0m\n\u001b[1;32m      2\u001b[0m     \u001b[0;31m# Read lines from the file and convert them to integers\u001b[0m\u001b[0;34m\u001b[0m\u001b[0;34m\u001b[0m\u001b[0m\n\u001b[0;32m----> 3\u001b[0;31m     \u001b[0mnumbers\u001b[0m \u001b[0;34m=\u001b[0m \u001b[0;34m[\u001b[0m\u001b[0mint\u001b[0m\u001b[0;34m(\u001b[0m\u001b[0mline\u001b[0m\u001b[0;34m.\u001b[0m\u001b[0mstrip\u001b[0m\u001b[0;34m(\u001b[0m\u001b[0;34m)\u001b[0m\u001b[0;34m)\u001b[0m \u001b[0;32mfor\u001b[0m \u001b[0mline\u001b[0m \u001b[0;32min\u001b[0m \u001b[0mfile\u001b[0m\u001b[0;34m]\u001b[0m\u001b[0;34m\u001b[0m\u001b[0;34m\u001b[0m\u001b[0m\n\u001b[0m\u001b[1;32m      4\u001b[0m \u001b[0;34m\u001b[0m\u001b[0m\n\u001b[1;32m      5\u001b[0m \u001b[0;31m# Calculate the sum of the numbers\u001b[0m\u001b[0;34m\u001b[0m\u001b[0;34m\u001b[0m\u001b[0m\n",
            "\u001b[0;31mValueError\u001b[0m: invalid literal for int() with base 10: 'Avani        1004         168'"
          ]
        }
      ]
    },
    {
      "cell_type": "code",
      "source": [
        "data= []"
      ],
      "metadata": {
        "id": "GR0_jiOEl4RU"
      },
      "execution_count": null,
      "outputs": []
    },
    {
      "cell_type": "code",
      "source": [
        "with open ('pythonset.txt','r') as file:\n",
        "  for line in file:\n",
        "    studentEntry = list(line.strip().split('    '))\n",
        "    data.append(studentEntry)"
      ],
      "metadata": {
        "id": "7ThSdAZ_m5eI"
      },
      "execution_count": null,
      "outputs": []
    },
    {
      "cell_type": "code",
      "source": [
        "(data)"
      ],
      "metadata": {
        "id": "vuqqF5g-o8zu"
      },
      "execution_count": null,
      "outputs": []
    },
    {
      "cell_type": "code",
      "source": [
        "nameStudent = input(\"Enter student name: \")\n",
        "\n",
        "for i in range(len(data)):\n",
        "  if(data[i][1] == nameStudent):\n",
        "    print(data[i])"
      ],
      "metadata": {
        "colab": {
          "base_uri": "https://localhost:8080/"
        },
        "id": "BNyiVVaQpChs",
        "outputId": "9a61e385-35fb-4428-acf0-19c8e60023be"
      },
      "execution_count": null,
      "outputs": [
        {
          "output_type": "stream",
          "name": "stdout",
          "text": [
            "Enter student name: aaron\n",
            "('1490', 'aaron', '23')\n"
          ]
        }
      ]
    },
    {
      "cell_type": "code",
      "source": [
        "marksStudent = input('Enter updated marks: ')\n",
        "\n",
        "for i in range(len(data)):\n",
        "  if(data[i][1] == nameStudent):\n",
        "    print('Before: ', data[i])\n",
        "    data[i][2] = marksStudent\n",
        "    print('After: ', data[i])"
      ],
      "metadata": {
        "colab": {
          "base_uri": "https://localhost:8080/"
        },
        "id": "a9CAo7wWpXE4",
        "outputId": "68815c46-21f5-415a-c9de-f670dfd6e92d"
      },
      "execution_count": null,
      "outputs": [
        {
          "output_type": "stream",
          "name": "stdout",
          "text": [
            "Enter updated marks: 89\n",
            "Before:  ['1490', 'aaron', '23']\n",
            "After:  ['1490', 'aaron', '89']\n"
          ]
        }
      ]
    },
    {
      "cell_type": "code",
      "source": [
        "for i in range(len(data)):\n",
        "  if(data[i][2] <= str(10)):\n",
        "    print(data[i][1])"
      ],
      "metadata": {
        "colab": {
          "base_uri": "https://localhost:8080/"
        },
        "id": "8yshiK1MqCzg",
        "outputId": "0e8ddc5e-a82e-4dbe-f06a-f7eec4bcf369"
      },
      "execution_count": null,
      "outputs": [
        {
          "output_type": "stream",
          "name": "stdout",
          "text": [
            "milissa\n",
            "ladarion\n",
            "harvey\n",
            "mihail\n",
            "maccoy\n",
            "jannett\n",
            "robertson\n",
            "tanmay\n",
            "chivas\n",
            "xaria\n",
            "karrine\n"
          ]
        }
      ]
    },
    {
      "cell_type": "code",
      "source": [
        "data.sort"
      ],
      "metadata": {
        "colab": {
          "base_uri": "https://localhost:8080/"
        },
        "id": "36liV0wXxgwo",
        "outputId": "24a29970-8f12-4286-ab3a-bcd6730173a6"
      },
      "execution_count": null,
      "outputs": [
        {
          "output_type": "execute_result",
          "data": {
            "text/plain": [
              "<function list.sort(*, key=None, reverse=False)>"
            ]
          },
          "metadata": {},
          "execution_count": 35
        }
      ]
    },
    {
      "cell_type": "code",
      "source": [
        "for i in range(2, len(marksStudent)):\n",
        "  print(max(marksStudent[i]))"
      ],
      "metadata": {
        "id": "-3wAAJwd1RDU"
      },
      "execution_count": null,
      "outputs": []
    },
    {
      "cell_type": "code",
      "source": [
        "#is prime or not\n",
        "def isPrime(n):\n",
        "  f = 0\n",
        "  for i in range(2, n//2 + 1):\n",
        "    if n%i == 0:\n",
        "      f = 1\n",
        "      break\n",
        "\n",
        "  if(f==1):\n",
        "    return True\n",
        "  else:\n",
        "    return False\n",
        "\n",
        "\n",
        "for i in range(len(data)):\n",
        "  if(isPrime(int([i][0]))):\n",
        "    print(data[i])"
      ],
      "metadata": {
        "colab": {
          "base_uri": "https://localhost:8080/"
        },
        "id": "2BZxG3Sv3JFC",
        "outputId": "2152faf4-aa55-4c1c-dcd9-abbfaf58dd6a"
      },
      "execution_count": null,
      "outputs": [
        {
          "output_type": "stream",
          "name": "stdout",
          "text": [
            "['1004', 'charelle', '14']\n",
            "['1006', 'dago', '87']\n",
            "['1008', 'jhase', '33']\n",
            "['1009', 'derika', '79']\n",
            "['1010', 'larsen', '93']\n",
            "['1012', 'katianna', '98']\n",
            "['1014', 'destane', '28']\n",
            "['1015', 'nechole', '28']\n",
            "['1016', 'destani', '99']\n",
            "['1018', 'surafel', '28']\n",
            "['1020', 'patryck', '47']\n",
            "['1021', 'carrisa', '55']\n",
            "['1022', 'destany', '9']\n",
            "['1024', 'elea', '71']\n",
            "['1025', 'valli', '39']\n",
            "['1026', 'issaac', '76']\n",
            "['1027', 'blade', '98']\n",
            "['1028', 'ayleen', '85']\n",
            "['1030', 'jorell', '78']\n",
            "['1032', 'milissa', '0']\n",
            "['1033', 'faizon', '34']\n",
            "['1034', 'kerrion', '95']\n",
            "['1035', 'marlita', '61']\n",
            "['1036', 'johnita', '2']\n",
            "['1038', 'courtany', '9']\n",
            "['1039', 'daryel', '57']\n",
            "['1040', 'loey', '77']\n",
            "['1042', 'misti', '94']\n",
            "['1044', 'ramonia', '52']\n",
            "['1045', 'danamarie', '11']\n",
            "['1046', 'samatha', '50']\n",
            "['1048', 'antwion', '3']\n",
            "['1049', 'jaeline', '47']\n",
            "['1050', 'nashiya', '23']\n",
            "['1051', 'silvino', '27']\n",
            "['1052', 'kathrynne', '92']\n",
            "['1054', 'umeka', '77']\n",
            "['1055', 'shantea', '30']\n",
            "['1056', 'shantel', '40']\n",
            "['1057', 'ferlin', '94']\n",
            "['1058', 'debroh', '96']\n",
            "['1060', 'jewelz', '84']\n",
            "['1062', 'ladarion', '10']\n",
            "['1063', 'jewell', '60']\n",
            "['1064', 'swayze', '20']\n",
            "['1065', 'isley', '30']\n",
            "['1066', 'dexter', '54']\n",
            "['1068', 'shanitra', '28']\n",
            "['1069', 'henchy', '98']\n",
            "['1070', 'kimberleigh', '61']\n",
            "['1072', 'leiland', '95']\n",
            "['1074', 'bryanah', '96']\n",
            "['1075', 'dazhane', '86']\n",
            "['1076', 'leilani', '44']\n",
            "['1077', 'vernon', '4']\n",
            "['1078', 'mersades', '4']\n",
            "['1080', 'taide', '45']\n",
            "['1081', 'jarexy', '66']\n",
            "['1082', 'randell', '62']\n",
            "['1084', 'glenna', '80']\n",
            "['1085', 'ondina', '38']\n",
            "['1086', 'timtohy', '62']\n",
            "['1087', 'ziair', '11']\n",
            "['1088', 'patryce', '73']\n",
            "['1090', 'kynadie', '46']\n",
            "['1091', 'zalaya', '81']\n",
            "['1092', 'ondine', '36']\n",
            "['1093', 'adamari', '8']\n",
            "['1094', 'indigo', '69']\n",
            "['1095', 'edgardo', '88']\n",
            "['1096', 'taseen', '73']\n",
            "['1098', 'kayci', '17']\n",
            "['1099', 'anquette', '61']\n",
            "['1100', 'kayce', '17']\n",
            "['1102', 'bradrick', '39']\n",
            "['1104', 'joquan', '46']\n",
            "['1105', 'navie', '66']\n",
            "['1106', 'navid', '36']\n",
            "['1108', 'navin', '27']\n",
            "['1110', 'khylei', '20']\n",
            "['1111', 'raiquan', '96']\n",
            "['1112', 'mihail', '0']\n",
            "['1114', 'maccoy', '1']\n",
            "['1115', 'elek', '95']\n",
            "['1116', 'shaquell', '12']\n",
            "['1117', 'jazalyn', '51']\n",
            "['1118', 'briaunna', '70']\n",
            "['1119', 'addam', '34']\n",
            "['1120', 'issaiah', '55']\n",
            "['1121', 'suellyn', '98']\n",
            "['1122', 'jayliana', '20']\n",
            "['1123', 'cope', '13']\n",
            "['1124', 'anjali', '65']\n",
            "['1125', 'mabel', '33']\n",
            "['1126', 'shimon', '70']\n",
            "['1128', 'willy', '32']\n",
            "['1129', 'even', '14']\n",
            "['1130', 'ashden', '74']\n",
            "['1132', 'akaash', '20']\n",
            "['1133', 'averly', '85']\n",
            "['1134', 'haadi', '55']\n",
            "['1135', 'jazelyn', '83']\n",
            "['1136', 'jannett', '0']\n",
            "['1138', 'jayel', '62']\n",
            "['1140', 'rayssa', '30']\n",
            "['1141', 'sevrin', '24']\n",
            "['1142', 'willa', '99']\n",
            "['1143', 'robertson', '10']\n",
            "['1144', 'reneta', '29']\n",
            "['1145', 'wille', '98']\n",
            "['1146', 'jannete', '70']\n",
            "['1147', 'gwenyth', '6']\n",
            "['1148', 'abbott', '6']\n",
            "['1150', 'trayvion', '68']\n",
            "['1152', 'zareen', '85']\n",
            "['1153', 'royer', '62']\n",
            "['1154', 'montague', '47']\n",
            "['1155', 'jaymarie', '51']\n",
            "['1156', 'srihitha', '96']\n",
            "['1158', 'kyren', '22']\n",
            "['1159', 'tannar', '37']\n",
            "['1160', 'macio', '96']\n",
            "['1161', 'harriette', '9']\n",
            "['1162', 'quintell', '47']\n",
            "['1164', 'wanita', '80']\n",
            "['1165', 'macie', '43']\n",
            "['1166', 'peytan', '25']\n",
            "['1168', 'xzayvion', '58']\n",
            "['1169', 'jakhari', '54']\n",
            "['1170', 'shams', '3']\n",
            "['1171', 'enza', '41']\n",
            "['1172', 'jameca', '39']\n",
            "['1174', 'jermeka', '50']\n",
            "['1175', 'jaedah', '29']\n",
            "['1176', 'idali', '30']\n",
            "['1177', 'brayen', '97']\n",
            "['1178', 'jaedan', '30']\n",
            "['1180', 'idaly', '88']\n",
            "['1182', 'ziomara', '21']\n",
            "['1183', 'kahlel', '12']\n",
            "['1184', 'kahlen', '69']\n",
            "['1185', 'susie', '22']\n",
            "['1186', 'tanmay', '10']\n",
            "['1187', 'toleen', '69']\n",
            "['1188', 'kahlea', '7']\n",
            "['1189', 'kahleb', '45']\n",
            "['1190', 'aleina', '7']\n",
            "['1192', 'vaishnavi', '62']\n",
            "['1194', 'jeret', '85']\n",
            "['1195', 'azumi', '98']\n",
            "['1196', 'safia', '25']\n",
            "['1198', 'corinne', '75']\n",
            "['1200', 'amylah', '69']\n",
            "['1201', 'corinna', '55']\n",
            "['1202', 'phyliss', '63']\n",
            "['1203', 'owyn', '56']\n",
            "['1204', 'nigel', '17']\n",
            "['1205', 'kimyra', '79']\n",
            "['1206', 'adrina', '63']\n",
            "['1207', 'ibrahima', '70']\n",
            "['1208', 'carmin', '63']\n",
            "['1209', 'mizraim', '11']\n",
            "['1210', 'kateria', '98']\n",
            "['1212', 'chante', '95']\n",
            "['1213', 'mairin', '97']\n",
            "['1214', 'aeriell', '88']\n",
            "['1215', 'shenica', '73']\n",
            "['1216', 'chanti', '87']\n",
            "['1217', 'ishmeal', '85']\n",
            "['1218', 'katerin', '74']\n",
            "['1219', 'rosealie', '9']\n",
            "['1220', 'danese', '39']\n",
            "['1221', 'keidrick', '52']\n",
            "['1222', 'kaja', '82']\n",
            "['1224', 'dafny', '4']\n",
            "['1225', 'shaneiqua', '92']\n",
            "['1226', 'takenya', '48']\n",
            "['1228', 'binta', '7']\n",
            "['1230', 'appolonia', '84']\n",
            "['1231', 'aaliyana', '98']\n",
            "['1232', 'ciaran', '16']\n",
            "['1234', 'aniyah', '47']\n",
            "['1235', 'tarvis', '25']\n",
            "['1236', 'lealani', '4']\n",
            "['1237', 'lealand', '86']\n",
            "['1238', 'daddy', '2']\n",
            "['1240', 'jaxan', '23']\n",
            "['1242', 'jalayla', '56']\n",
            "['1243', 'xaria', '1']\n",
            "['1244', 'zeth', '4']\n",
            "['1245', 'jayleigh', '81']\n",
            "['1246', 'zeta', '33']\n",
            "['1247', 'neco', '35']\n",
            "['1248', 'aidon', '24']\n",
            "['1249', 'rolland', '67']\n",
            "['1250', 'jocilynn', '78']\n",
            "['1252', 'fontaine', '33']\n",
            "['1253', 'kennard', '71']\n",
            "['1254', 'rhondalyn', '37']\n",
            "['1255', 'thea', '26']\n",
            "['1256', 'pascual', '18']\n",
            "['1258', 'coralee', '14']\n",
            "['1259', 'linnaea', '61']\n",
            "['1260', 'millianna', '93']\n",
            "['1261', 'jasin', '44']\n",
            "['1262', 'jotham', '25']\n",
            "['1264', 'pooja', '32']\n",
            "['1265', 'jessye', '86']\n",
            "['1266', 'alisande', '88']\n",
            "['1267', 'seif', '7']\n",
            "['1268', 'pandora', '28']\n",
            "['1270', 'jesicca', '24']\n",
            "['1272', 'karrin', '50']\n",
            "['1273', 'karrie', '60']\n",
            "['1274', 'armida', '95']\n",
            "['1275', 'karris', '27']\n",
            "['1276', 'natesha', '66']\n",
            "['1278', 'marke', '37']\n",
            "['1279', 'daion', '31']\n",
            "['1280', 'marka', '99']\n",
            "['1282', 'marko', '21']\n",
            "['1284', 'bobak', '20']\n",
            "['1285', 'gagandeep', '37']\n",
            "['1286', 'darya', '83']\n",
            "['1287', 'daryn', '97']\n",
            "['1288', 'daryl', '74']\n",
            "['1289', 'taquisha', '63']\n",
            "['1290', 'mylan', '64']\n",
            "['1291', 'taiyo', '74']\n",
            "['1292', 'mylah', '4']\n",
            "['1294', 'taiya', '57']\n",
            "['1295', 'tian', '85']\n",
            "['1296', 'tiah', '57']\n",
            "['1297', 'keinan', '69']\n",
            "['1298', 'caniyah', '31']\n",
            "['1299', 'tynia', '3']\n",
            "['1300', 'yariah', '15']\n",
            "['1301', 'tiaa', '64']\n",
            "['1302', 'jaloni', '85']\n",
            "['1303', 'hoang', '7']\n",
            "['1304', 'faduma', '79']\n",
            "['1305', 'raionna', '74']\n",
            "['1306', 'mayara', '26']\n",
            "['1308', 'rilie', '24']\n",
            "['1309', 'theotis', '82']\n",
            "['1310', 'mayari', '75']\n",
            "['1312', 'leiliana', '83']\n",
            "['1314', 'vianey', '70']\n",
            "['1315', 'shalaina', '94']\n",
            "['1316', 'chelsia', '95']\n",
            "['1318', 'karsen', '44']\n",
            "['1319', 'jabe', '89']\n",
            "['1320', 'shanigua', '38']\n",
            "['1321', 'tymia', '74']\n",
            "['1322', 'anderson', '52']\n",
            "['1323', 'yaileen', '69']\n",
            "['1324', 'tymir', '20']\n",
            "['1325', 'kenyah', '51']\n",
            "['1326', 'shanetra', '48']\n",
            "['1327', 'ziva', '2']\n",
            "['1328', 'anitria', '21']\n",
            "['1329', 'chidinma', '21']\n",
            "['1330', 'cassara', '36']\n",
            "['1332', 'danicka', '13']\n",
            "['1333', 'rithik', '99']\n",
            "['1334', 'shraga', '84']\n",
            "['1335', 'falan', '87']\n",
            "['1336', 'laury', '29']\n",
            "['1338', 'leman', '77']\n",
            "['1339', 'loryn', '47']\n",
            "['1340', 'sanja', '37']\n",
            "['1341', 'laura', '15']\n",
            "['1342', 'laure', '73']\n",
            "['1343', 'lemar', '47']\n",
            "['1344', 'lauri', '53']\n",
            "['1345', 'macaela', '84']\n",
            "['1346', 'pebble', '89']\n",
            "['1348', 'lauro', '93']\n",
            "['1350', 'daivion', '14']\n",
            "['1351', 'haileyann', '66']\n",
            "['1352', 'jadasia', '2']\n",
            "['1354', 'allianna', '35']\n",
            "['1355', 'meghin', '80']\n",
            "['1356', 'nykolas', '25']\n",
            "['1357', 'shaquina', '45']\n",
            "['1358', 'cherry', '28']\n",
            "['1360', 'jorie', '47']\n",
            "['1361', 'remington', '84']\n",
            "['1362', 'poseidon', '18']\n",
            "['1363', 'chade', '50']\n",
            "['1364', 'chadd', '36']\n",
            "['1365', 'clayt', '53']\n",
            "['1366', 'delsin', '9']\n",
            "['1368', 'donovan', '94']\n",
            "['1369', 'velva', '67']\n",
            "['1370', 'cierria', '47']\n",
            "['1371', 'murl', '81']\n",
            "['1372', 'elgin', '85']\n",
            "['1374', 'elgie', '4']\n",
            "['1375', 'avien', '22']\n",
            "['1376', 'zyere', '50']\n",
            "['1377', 'madeliene', '73']\n",
            "['1378', 'marlon', '50']\n",
            "['1380', 'karrine', '1']\n",
            "['1381', 'meily', '65']\n",
            "['1382', 'karrina', '43']\n",
            "['1384', 'skya', '28']\n",
            "['1385', 'scottie', '99']\n",
            "['1386', 'skyy', '9']\n",
            "['1387', 'jewels', '88']\n",
            "['1388', 'shahrzad', '41']\n",
            "['1390', 'keilee', '88']\n",
            "['1391', 'ranferi', '85']\n",
            "['1392', 'peder', '44']\n",
            "['1393', 'keilen', '61']\n",
            "['1394', 'korissa', '97']\n",
            "['1395', 'keiley', '57']\n",
            "['1396', 'tracen', '14']\n",
            "['1398', 'tracee', '73']\n",
            "['1399', 'zaidyn', '82']\n",
            "['1400', 'tahara', '76']\n",
            "['1402', 'persia', '63']\n",
            "['1403', 'dashanay', '20']\n",
            "['1404', 'tracer', '39']\n",
            "['1405', 'jessamy', '71']\n",
            "['1406', 'martyn', '23']\n",
            "['1407', 'gavin', '68']\n",
            "['1408', 'michaelyn', '36']\n",
            "['1410', 'belton', '88']\n",
            "['1411', 'dashanae', '11']\n",
            "['1412', 'braxtyn', '30']\n",
            "['1413', 'eryn', '55']\n",
            "['1414', 'tammera', '15']\n",
            "['1415', 'camala', '20']\n",
            "['1416', 'hydeia', '53']\n",
            "['1417', 'happy', '66']\n",
            "['1418', 'eternity', '13']\n",
            "['1420', 'ewing', '27']\n",
            "['1422', 'oscar', '89']\n",
            "['1423', 'beyonka', '70']\n",
            "['1424', 'nahshon', '31']\n",
            "['1425', 'tajuana', '72']\n",
            "['1426', 'spence', '89']\n",
            "['1427', 'vitaliy', '3']\n",
            "['1428', 'jaykwon', '76']\n",
            "['1429', 'abbigayle', '38']\n",
            "['1430', 'javonte', '48']\n",
            "['1432', 'javonta', '95']\n",
            "['1434', 'tralana', '74']\n",
            "['1435', 'crislyn', '23']\n",
            "['1436', 'kenishia', '80']\n",
            "['1437', 'christyana', '16']\n",
            "['1438', 'rawley', '84']\n",
            "['1440', 'brenda', '91']\n",
            "['1441', 'marilou', '23']\n",
            "['1442', 'aissatou', '41']\n",
            "['1444', 'antawn', '84']\n",
            "['1445', 'steven', '60']\n",
            "['1446', 'zissel', '8']\n",
            "['1447', 'johnanthony', '51']\n",
            "['1448', 'stevee', '9']\n",
            "['1450', 'tyriek', '17']\n",
            "['1451', 'kiondra', '93']\n",
            "['1452', 'kiondre', '39']\n",
            "['1453', 'hawra', '37']\n",
            "['1454', 'quadree', '5']\n",
            "['1455', 'adeyemi', '98']\n",
            "['1456', 'susana', '53']\n",
            "['1458', 'klayten', '23']\n",
            "['1459', 'emberlee', '81']\n",
            "['1460', 'susann', '59']\n",
            "['1462', 'demarco', '5']\n",
            "['1464', 'lilliana', '86']\n",
            "['1465', 'seve', '5']\n",
            "['1466', 'ariyel', '40']\n",
            "['1468', 'cally', '53']\n",
            "['1469', 'gerrit', '67']\n",
            "['1470', 'tyshia', '25']\n",
            "['1471', 'jakeb', '67']\n",
            "['1472', 'calla', '96']\n",
            "['1473', 'gerrie', '8']\n",
            "['1474', 'jaken', '90']\n",
            "['1475', 'fredericka', '95']\n",
            "['1476', 'genesi', '21']\n",
            "['1477', 'alima', '45']\n",
            "['1478', 'navneet', '12']\n",
            "['1480', 'leilana', '93']\n",
            "['1481', 'ranbir', '37']\n",
            "['1482', 'shakelia', '65']\n",
            "['1483', 'clintona', '70']\n",
            "['1484', 'shaquitta', '5']\n",
            "['1485', 'lizeth', '25']\n",
            "['1486', 'maryjo', '91']\n",
            "['1488', 'abimael', '41']\n",
            "['1489', 'valdez', '80']\n",
            "['1490', 'aaron', '89']\n",
            "['1492', 'marinda', '29']\n",
            "['1493', 'mekhiya', '40']\n",
            "['1494', 'joleen', '20']\n",
            "['1495', 'dejuan', '56']\n",
            "['1496', 'endy', '58']\n",
            "['1497', 'jullianna', '87']\n",
            "['1498', 'aneesia', '56']\n",
            "['1500', 'endi', '69']\n"
          ]
        }
      ]
    },
    {
      "cell_type": "code",
      "source": [
        "#sum\n",
        "fp=open('pythonset.txt')\n",
        "sum=0\n",
        "next(fp)\n",
        "for line in fp:\n",
        "  rollno,name,marks=line.split()\n",
        "  sum +=int(marks)\n",
        "print(sum)\n",
        "fp.close()\n"
      ],
      "metadata": {
        "colab": {
          "base_uri": "https://localhost:8080/"
        },
        "id": "znWAxcl3DJ9d",
        "outputId": "4aa5d0a8-0c85-40ae-d94b-6914cb7fa494"
      },
      "execution_count": null,
      "outputs": [
        {
          "output_type": "stream",
          "name": "stdout",
          "text": [
            "25438\n"
          ]
        }
      ]
    },
    {
      "cell_type": "code",
      "source": [
        "#max min\n",
        "max_marks=0\n",
        "min_marks=0\n",
        "\n",
        "fp=open('pythonset.txt')\n",
        "next(fp)\n",
        "for line in fp:\n",
        "  rollno, name, marks=line.split()\n",
        "  marks=int(marks)\n",
        "  if marks>max_marks:\n",
        "    max_marks=marks\n",
        "  if marks<min_marks:\n",
        "    min_marks=marks\n",
        "print(max_marks)\n",
        "print(min_marks)\n",
        "fp.close()\n",
        "\n"
      ],
      "metadata": {
        "colab": {
          "base_uri": "https://localhost:8080/"
        },
        "id": "6Vn0gjcHI1fH",
        "outputId": "cd8886f2-62dd-4da5-e854-bb015b5bdbad"
      },
      "execution_count": null,
      "outputs": [
        {
          "output_type": "stream",
          "name": "stdout",
          "text": [
            "100\n",
            "0\n"
          ]
        }
      ]
    },
    {
      "cell_type": "code",
      "source": [
        "#odd\n",
        "fp=open('pythonset.txt')\n",
        "next(fp)\n",
        "for line in fp:\n",
        "  rollno, name, marks=line.split()\n",
        "  marks=int(marks)\n",
        "  if marks%2!=0:\n",
        "    print(name, marks)\n",
        "fp.close()"
      ],
      "metadata": {
        "colab": {
          "base_uri": "https://localhost:8080/"
        },
        "id": "tDLNrIVHHwpq",
        "outputId": "178818a6-1f70-40d5-f1c9-54a36571a1f3"
      },
      "execution_count": null,
      "outputs": [
        {
          "output_type": "stream",
          "name": "stdout",
          "text": [
            "satara 43\n",
            "rory 51\n",
            "elizeo 97\n",
            "dago 87\n",
            "poetry 63\n",
            "jhase 33\n",
            "derika 79\n",
            "larsen 93\n",
            "ayodeji 47\n",
            "destani 99\n",
            "deklyn 23\n",
            "aixa 35\n",
            "patryck 47\n",
            "carrisa 55\n",
            "destany 9\n",
            "cael 27\n",
            "elea 71\n",
            "valli 39\n",
            "ayleen 85\n",
            "lyberti 11\n",
            "kerrion 95\n",
            "marlita 61\n",
            "courtany 9\n",
            "daryel 57\n",
            "loey 77\n",
            "navayah 37\n",
            "danamarie 11\n",
            "antwion 3\n",
            "jaeline 47\n",
            "nashiya 23\n",
            "silvino 27\n",
            "shantee 29\n",
            "umeka 77\n",
            "kimberleigh 61\n",
            "leiland 95\n",
            "halona 15\n",
            "taide 45\n",
            "ziair 11\n",
            "patryce 73\n",
            "tatayana 7\n",
            "zalaya 81\n",
            "indigo 69\n",
            "taseen 73\n",
            "adamary 91\n",
            "kayci 17\n",
            "anquette 61\n",
            "kayce 17\n",
            "bradrick 39\n",
            "estanislao 49\n",
            "navil 81\n",
            "navin 27\n",
            "rakita 7\n",
            "maccoy 1\n",
            "elek 95\n",
            "jazalyn 51\n",
            "issaiah 55\n",
            "cope 13\n",
            "anjali 65\n",
            "mabel 33\n",
            "averly 85\n",
            "haadi 55\n",
            "jazelyn 83\n",
            "willa 99\n",
            "reneta 29\n",
            "myan 49\n",
            "zareen 85\n",
            "montague 47\n",
            "jaymarie 51\n",
            "smitha 33\n",
            "tannar 37\n",
            "harriette 9\n",
            "quintell 47\n",
            "alok 7\n",
            "macie 43\n",
            "peytan 25\n",
            "yevonne 85\n",
            "shams 3\n",
            "enza 41\n",
            "jameca 39\n",
            "shama 89\n",
            "jaedah 29\n",
            "brayen 97\n",
            "karrisa 45\n",
            "temeca 59\n",
            "ziomara 21\n",
            "kahlen 69\n",
            "toleen 69\n",
            "kahlea 7\n",
            "kahleb 45\n",
            "aleina 7\n",
            "janessa 51\n",
            "chivas 1\n",
            "jeret 85\n",
            "safia 25\n",
            "corinne 75\n",
            "diamond 59\n",
            "amylah 69\n",
            "corinna 55\n",
            "phyliss 63\n",
            "nigel 17\n",
            "kimyra 79\n",
            "adrina 63\n",
            "carmin 63\n",
            "mizraim 11\n",
            "chante 95\n",
            "mairin 97\n",
            "shenica 73\n",
            "chanti 87\n",
            "ishmeal 85\n",
            "rosealie 9\n",
            "danese 39\n",
            "aubrina 75\n",
            "avaya 57\n",
            "binta 7\n",
            "amyiah 79\n",
            "zachory 55\n",
            "aniyah 47\n",
            "tarvis 25\n",
            "rania 97\n",
            "jaxan 23\n",
            "xaria 1\n",
            "jayleigh 81\n",
            "zeta 33\n",
            "neco 35\n",
            "rolland 67\n",
            "theo 77\n",
            "fontaine 33\n",
            "kennard 71\n",
            "rhondalyn 37\n",
            "linnaea 61\n",
            "millianna 93\n",
            "jotham 25\n",
            "rajesh 41\n",
            "seif 7\n",
            "mahlet 13\n",
            "litsy 59\n",
            "armida 95\n",
            "karris 27\n",
            "marke 37\n",
            "daion 31\n",
            "marka 99\n",
            "marko 21\n",
            "marki 15\n",
            "gagandeep 37\n",
            "darya 83\n",
            "daryn 97\n",
            "taquisha 63\n",
            "taiya 57\n",
            "tian 85\n",
            "tiah 57\n",
            "keinan 69\n",
            "caniyah 31\n",
            "tynia 3\n",
            "yariah 15\n",
            "jaloni 85\n",
            "hoang 7\n",
            "faduma 79\n",
            "nysir 97\n",
            "mayari 75\n",
            "leiliana 83\n",
            "shalaine 27\n",
            "chelsia 95\n",
            "jabe 89\n",
            "yaileen 69\n",
            "kenyah 51\n",
            "anitria 21\n",
            "chidinma 21\n",
            "danicka 13\n",
            "rithik 99\n",
            "falan 87\n",
            "laury 29\n",
            "kalicia 5\n",
            "leman 77\n",
            "loryn 47\n",
            "sanja 37\n",
            "laura 15\n",
            "laure 73\n",
            "lemar 47\n",
            "lauri 53\n",
            "pebble 89\n",
            "lauro 93\n",
            "ghazi 77\n",
            "brittnie 87\n",
            "allianna 35\n",
            "nykolas 25\n",
            "shaquina 45\n",
            "shya 23\n",
            "jorie 47\n",
            "clayt 53\n",
            "delsin 9\n",
            "velva 67\n",
            "cierria 47\n",
            "murl 81\n",
            "elgin 85\n",
            "madeliene 73\n",
            "chizaram 23\n",
            "karrine 1\n",
            "meily 65\n",
            "karrina 43\n",
            "scottie 99\n",
            "skyy 9\n",
            "shahrzad 41\n",
            "ranferi 85\n",
            "keilen 61\n",
            "korissa 97\n",
            "keiley 57\n",
            "tamyah 53\n",
            "tracee 73\n",
            "persia 63\n",
            "tracer 39\n",
            "jessamy 71\n",
            "martyn 23\n",
            "dashanae 11\n",
            "eryn 55\n",
            "tammera 15\n",
            "hydeia 53\n",
            "eternity 13\n",
            "laneisha 95\n",
            "ewing 27\n",
            "oscar 89\n",
            "nahshon 31\n",
            "spence 89\n",
            "vitaliy 3\n",
            "javonta 95\n",
            "missael 21\n",
            "crislyn 23\n",
            "brenda 91\n",
            "marilou 23\n",
            "aissatou 41\n",
            "brendt 27\n",
            "johnanthony 51\n",
            "stevee 9\n",
            "brendy 7\n",
            "tyriek 17\n",
            "kiondra 93\n",
            "kiondre 39\n",
            "hawra 37\n",
            "quadree 5\n",
            "susana 53\n",
            "klayten 23\n",
            "emberlee 81\n",
            "susann 59\n",
            "emberley 97\n",
            "demarco 5\n",
            "ileana 5\n",
            "seve 5\n",
            "lilliann 47\n",
            "cally 53\n",
            "gerrit 67\n",
            "tyshia 25\n",
            "jakeb 67\n",
            "fredericka 95\n",
            "genesi 21\n",
            "alima 45\n",
            "genese 99\n",
            "leilana 93\n",
            "ranbir 37\n",
            "shakelia 65\n",
            "shaquitta 5\n",
            "lizeth 25\n",
            "maryjo 91\n",
            "deneane 15\n",
            "abimael 41\n",
            "aaron 23\n",
            "lizett 79\n",
            "marinda 29\n",
            "jullianna 87\n",
            "endi 69\n"
          ]
        }
      ]
    },
    {
      "cell_type": "code",
      "source": [
        "a= input(\"say first: \")\n",
        "b= input(\"say then: \")\n",
        "c= a + b\n",
        "print(c)"
      ],
      "metadata": {
        "colab": {
          "base_uri": "https://localhost:8080/"
        },
        "id": "6N7M2hISkeyH",
        "outputId": "eda1e7a3-ce2d-4203-8eb1-d6c4e470bf9d"
      },
      "execution_count": null,
      "outputs": [
        {
          "output_type": "stream",
          "name": "stdout",
          "text": [
            "say first: hello \n",
            "say then: world\n",
            "hello world\n"
          ]
        }
      ]
    },
    {
      "cell_type": "code",
      "source": [
        "\n",
        "for i in range (2,13,2):\n",
        "  print(i)\n"
      ],
      "metadata": {
        "colab": {
          "base_uri": "https://localhost:8080/"
        },
        "id": "o4ZFRNMAk_if",
        "outputId": "c5b1fe04-9427-4112-fe53-c1a3a38c67bf"
      },
      "execution_count": null,
      "outputs": [
        {
          "output_type": "stream",
          "name": "stdout",
          "text": [
            "2\n",
            "4\n",
            "6\n",
            "8\n",
            "10\n",
            "12\n"
          ]
        }
      ]
    },
    {
      "cell_type": "code",
      "source": [
        "for i in range (11):\n",
        "  print (7, \"*\", i , \"=\", 7*i)\n",
        "  print(9, \"*\", i , \"=\", 9*i)"
      ],
      "metadata": {
        "colab": {
          "base_uri": "https://localhost:8080/"
        },
        "id": "pnaZy5U7l1RB",
        "outputId": "521be849-c7ec-4bff-d4ac-62cc6c509be6"
      },
      "execution_count": null,
      "outputs": [
        {
          "output_type": "stream",
          "name": "stdout",
          "text": [
            "7 * 0 = 0\n",
            "7 * 1 = 7\n",
            "7 * 2 = 14\n",
            "7 * 3 = 21\n",
            "7 * 4 = 28\n",
            "7 * 5 = 35\n",
            "7 * 6 = 42\n",
            "7 * 7 = 49\n",
            "7 * 8 = 56\n",
            "7 * 9 = 63\n",
            "7 * 10 = 70\n",
            "9 * 10 = 90\n"
          ]
        }
      ]
    },
    {
      "cell_type": "code",
      "source": [
        "n= int(input(\"give noombr: \"))\n",
        "for i in range (11):\n",
        "  print (n , \"*\", i , \"=\", n*i)"
      ],
      "metadata": {
        "colab": {
          "base_uri": "https://localhost:8080/"
        },
        "id": "niqvi37NnaYh",
        "outputId": "4ea60aa0-dd52-49da-91e9-1a1f82c76616"
      },
      "execution_count": null,
      "outputs": [
        {
          "output_type": "stream",
          "name": "stdout",
          "text": [
            "give noombr: 7\n",
            "7 * 0 = 0\n",
            "7 * 1 = 7\n",
            "7 * 2 = 14\n",
            "7 * 3 = 21\n",
            "7 * 4 = 28\n",
            "7 * 5 = 35\n",
            "7 * 6 = 42\n",
            "7 * 7 = 49\n",
            "7 * 8 = 56\n",
            "7 * 9 = 63\n",
            "7 * 10 = 70\n"
          ]
        }
      ]
    },
    {
      "cell_type": "code",
      "source": [
        "s=0\n",
        "for i in range (1,6):\n",
        "   s= s+i\n",
        "print (s)\n"
      ],
      "metadata": {
        "colab": {
          "base_uri": "https://localhost:8080/"
        },
        "id": "X9D8WceJmE6A",
        "outputId": "298636c5-a8e0-4649-c1dc-f18ccbe0b960"
      },
      "execution_count": null,
      "outputs": [
        {
          "output_type": "stream",
          "name": "stdout",
          "text": [
            "15\n"
          ]
        }
      ]
    },
    {
      "cell_type": "code",
      "source": [
        "n= int(input(\"give a number: \"))\n",
        "for i in range (1, n):\n",
        "  n= n+i\n",
        "print(n)"
      ],
      "metadata": {
        "colab": {
          "base_uri": "https://localhost:8080/"
        },
        "id": "_tcr384dogWU",
        "outputId": "9a5ccace-29bf-4b88-9cd2-116ceeb8b10b"
      },
      "execution_count": null,
      "outputs": [
        {
          "output_type": "stream",
          "name": "stdout",
          "text": [
            "give a number: 5\n",
            "15\n"
          ]
        }
      ]
    },
    {
      "cell_type": "code",
      "source": [
        "n = int(input(\"first: \"))\n",
        "\n",
        "def isodd(n):\n",
        "  if n%2==0:\n",
        "    return 0\n",
        "  return 1\n",
        "print(isodd(n))\n"
      ],
      "metadata": {
        "colab": {
          "base_uri": "https://localhost:8080/"
        },
        "id": "j9Gl9xWApXHh",
        "outputId": "27966187-6d9c-4d09-f151-d13fcf2c50a5"
      },
      "execution_count": null,
      "outputs": [
        {
          "output_type": "stream",
          "name": "stdout",
          "text": [
            "first: 23\n",
            "1\n"
          ]
        }
      ]
    },
    {
      "cell_type": "code",
      "source": [
        "a = int(input(\"number: \"))\n",
        "\n",
        "f= 0\n",
        "for i in range(2, a//2 +1):\n",
        "  if a%1==0:\n",
        "    f=1\n",
        "    break\n",
        "\n",
        "if f==0:\n",
        "  print(\" not prime\")\n",
        "else:\n",
        "  print(\"prime\")"
      ],
      "metadata": {
        "colab": {
          "base_uri": "https://localhost:8080/"
        },
        "id": "5DbeloZFqvXx",
        "outputId": "6fb70c26-1f1c-4341-d518-f2ff09d2c65c"
      },
      "execution_count": null,
      "outputs": [
        {
          "output_type": "stream",
          "name": "stdout",
          "text": [
            "number: 23\n",
            "prime\n"
          ]
        }
      ]
    },
    {
      "cell_type": "code",
      "source": [
        "n = int(input(\"Enter a No: \"))\n",
        "f=0\n",
        "for i in range(2, n//2 + 1):\n",
        "\tif  n % i == 0:\n",
        "\t\tf=1\n",
        "\t\tbreak\n",
        "\n",
        "if f==0:\n",
        "\tprint (\"Prime\")\n",
        "else:\n",
        "\tprint (\"Not Prime\")\n"
      ],
      "metadata": {
        "colab": {
          "base_uri": "https://localhost:8080/"
        },
        "id": "czw9QVDvr0zn",
        "outputId": "95729136-a8bc-418e-e8e2-ae9b377013c0"
      },
      "execution_count": null,
      "outputs": [
        {
          "output_type": "stream",
          "name": "stdout",
          "text": [
            "Enter a No: 23\n",
            "Prime\n"
          ]
        }
      ]
    },
    {
      "cell_type": "code",
      "source": [
        "#WAP to find max amoung three numbers and input from user. [Try max() function]\n",
        "\n",
        "a = int(input(\"no 1: \"))\n",
        "b=  int(input(\"no 2: \"))\n",
        "c = int(input(\"no 3: \"))\n",
        "\n",
        "print(max(a,b,c))\n"
      ],
      "metadata": {
        "colab": {
          "base_uri": "https://localhost:8080/"
        },
        "id": "OmCYcEtisgTl",
        "outputId": "8f7ad2c6-cfde-42f7-aaad-279311a2ecaf"
      },
      "execution_count": null,
      "outputs": [
        {
          "output_type": "stream",
          "name": "stdout",
          "text": [
            "no 1: 12\n",
            "no 2: 24\n",
            "no 3: 36\n",
            "36\n"
          ]
        }
      ]
    },
    {
      "cell_type": "code",
      "source": [
        "# WAP to add all numbers divisible by 7 and 9 from 1 to n and n is given by the user.\n",
        "\n",
        "n = int(input(\"number: \"))\n",
        "f=0\n",
        "\n",
        "for i in range(1, n+1):\n",
        "  if i % 7==0 and i % 9==0:\n",
        "    f+=i\n",
        "  print(f\"sum to {n} is : {f}\")"
      ],
      "metadata": {
        "id": "_1r1AMb-tKDw"
      },
      "execution_count": null,
      "outputs": []
    },
    {
      "cell_type": "code",
      "source": [
        "n = int(input(\"Enter a number (n): \"))\n",
        "f= 0\n",
        "\n",
        "for i in range (2, n//2 + 1 ):\n",
        "  if n % 1==0:\n",
        "    f=1\n",
        "    break\n",
        "\n",
        "print(f)"
      ],
      "metadata": {
        "colab": {
          "base_uri": "https://localhost:8080/"
        },
        "id": "E5F3otrHuvU7",
        "outputId": "a52b1e71-032b-43ba-e81c-2899748c4cca"
      },
      "execution_count": null,
      "outputs": [
        {
          "output_type": "stream",
          "name": "stdout",
          "text": [
            "Enter a number (n): 23\n",
            "1\n"
          ]
        }
      ]
    },
    {
      "cell_type": "code",
      "source": [
        "def addn(a,b):\n",
        "  c= a+ b\n",
        "  return c\n",
        "print(\"sum is: \", addn(10,20))"
      ],
      "metadata": {
        "colab": {
          "base_uri": "https://localhost:8080/"
        },
        "id": "yit5gOZO_Ifs",
        "outputId": "3890f281-d0dd-4f59-e8cc-750b9ee2f563"
      },
      "execution_count": null,
      "outputs": [
        {
          "output_type": "stream",
          "name": "stdout",
          "text": [
            "sum is:  30\n"
          ]
        }
      ]
    },
    {
      "cell_type": "code",
      "source": [
        "n= int(input(\"number: \"))\n",
        "\n",
        "def Isprime(n):\n",
        "  for i in range(2, n//2 + 1):\n",
        "    if n % i ==0:\n",
        "      return 0\n",
        "  return 1\n",
        "\n",
        "\n",
        "print (\"your number is \", Isprime(n))"
      ],
      "metadata": {
        "colab": {
          "base_uri": "https://localhost:8080/"
        },
        "id": "cTvCITAnjy6R",
        "outputId": "49b94f6a-f159-4e4c-9746-c93504189adb"
      },
      "execution_count": null,
      "outputs": [
        {
          "output_type": "stream",
          "name": "stdout",
          "text": [
            "number: 23\n",
            "your number is  1\n"
          ]
        }
      ]
    },
    {
      "cell_type": "code",
      "source": [
        "n= int(input(\"number: \"))\n",
        "def IsPrime(n):\n",
        "\tfor i in range(2, n//2 + 1):\n",
        "\t\tif n%i==0:\n",
        "\t\t\treturn 0\n",
        "\treturn 1\n",
        "\n",
        "print (\"IsPrime  --> \", IsPrime(n))"
      ],
      "metadata": {
        "colab": {
          "base_uri": "https://localhost:8080/"
        },
        "id": "pPvD6HdVlEjJ",
        "outputId": "ad931c22-ce32-42e4-9075-02ee93fbd69c"
      },
      "execution_count": null,
      "outputs": [
        {
          "output_type": "stream",
          "name": "stdout",
          "text": [
            "number: 23\n",
            "IsPrime  -->  1\n"
          ]
        }
      ]
    },
    {
      "cell_type": "code",
      "source": [
        "n= int(input(\"number: \"))\n",
        "def AddN(n):\n",
        "  s = sum(range(n+1))\n",
        "  return s\n",
        "print(\"summ is\", AddN(n))"
      ],
      "metadata": {
        "colab": {
          "base_uri": "https://localhost:8080/"
        },
        "id": "ZGOR7TuymapY",
        "outputId": "ba1c90d2-5557-40be-8307-09c34b1d16eb"
      },
      "execution_count": null,
      "outputs": [
        {
          "output_type": "stream",
          "name": "stdout",
          "text": [
            "number: 10\n",
            "summ is 55\n"
          ]
        }
      ]
    },
    {
      "cell_type": "code",
      "source": [
        "n= int(input(\"number: \"))\n",
        "def Add_Odd(n):\n",
        "  if n % 2 !==0:\n",
        "\n"
      ],
      "metadata": {
        "id": "tpL4TYrRohL9"
      },
      "execution_count": null,
      "outputs": []
    },
    {
      "cell_type": "code",
      "source": [
        "import random as r\n",
        "\n",
        "a = [\"yes\", \"no\", \"maybe\", \"yess for sure\", \"stop questioning even\"]\n",
        "\n",
        "print(r.sample(a,1))"
      ],
      "metadata": {
        "colab": {
          "base_uri": "https://localhost:8080/"
        },
        "id": "bnR6_Waw6A8M",
        "outputId": "ddf13d3d-b068-4f93-c934-354882e45dba"
      },
      "execution_count": null,
      "outputs": [
        {
          "output_type": "stream",
          "name": "stdout",
          "text": [
            "['no']\n"
          ]
        }
      ]
    },
    {
      "cell_type": "code",
      "source": [
        "import string as s\n",
        "import random as r\n",
        "\n",
        "print(r.sample(s.ascii_letters, 2))"
      ],
      "metadata": {
        "colab": {
          "base_uri": "https://localhost:8080/"
        },
        "id": "AMoZkhI96u7Q",
        "outputId": "364a6c5d-6b60-41a7-9eba-b7c79512390a"
      },
      "execution_count": null,
      "outputs": [
        {
          "output_type": "stream",
          "name": "stdout",
          "text": [
            "['t', 'o']\n"
          ]
        }
      ]
    },
    {
      "cell_type": "code",
      "source": [
        "import string as s\n",
        "import random as r\n",
        "\n",
        "splChar= \"#@!~%^&*()_+=-[]{}|\"\n",
        "mixPasswd=r.sample(splChar + s.ascii_letters + s.digits, 8)\n",
        "print (\"\\nSelected Str3 --> \",mixPasswd)\n",
        "mixPasswd=\"\".join(mixPasswd)\n",
        "print (\"mixPasswd3    --> \",mixPasswd)"
      ],
      "metadata": {
        "colab": {
          "base_uri": "https://localhost:8080/",
          "height": 106
        },
        "id": "r31xmmaS7GbN",
        "outputId": "8f63748f-d481-463c-d968-8a4c8528c75b"
      },
      "execution_count": null,
      "outputs": [
        {
          "output_type": "error",
          "ename": "SyntaxError",
          "evalue": "invalid syntax (<ipython-input-25-acc5ce4f7fce>, line 4)",
          "traceback": [
            "\u001b[0;36m  File \u001b[0;32m\"<ipython-input-25-acc5ce4f7fce>\"\u001b[0;36m, line \u001b[0;32m4\u001b[0m\n\u001b[0;31m    splChar= #@!~%^&*()_+=-[]{}|\u001b[0m\n\u001b[0m             ^\u001b[0m\n\u001b[0;31mSyntaxError\u001b[0m\u001b[0;31m:\u001b[0m invalid syntax\n"
          ]
        }
      ]
    },
    {
      "cell_type": "code",
      "source": [
        "L=[3, 6, 9, 12, 5, 3, 2]\n",
        "print (\"Original List --> \", L)\n",
        "\n",
        "print (\"max --> \", max(L))\n",
        "print (\"min --> \", min(L))\n",
        "\n",
        "print (\"\\nBefore Sort            --> \", L)\n",
        "L.sort()\n",
        "\n",
        "print (\"\\nAfter Sort (Asending)  --> \", L)\n",
        "\n",
        "L.sort(reverse=True)\n",
        "print (\"\\nAfter Sort (Desending) --> \", L)\n"
      ],
      "metadata": {
        "colab": {
          "base_uri": "https://localhost:8080/"
        },
        "id": "e0vwxcfUDIkj",
        "outputId": "31df75e8-704c-4df8-d6a4-b77a6414453e"
      },
      "execution_count": null,
      "outputs": [
        {
          "output_type": "stream",
          "name": "stdout",
          "text": [
            "Original List -->  [3, 6, 9, 12, 5, 3, 2]\n",
            "max -->  12\n",
            "min -->  2\n",
            "\n",
            "Before Sort            -->  [3, 6, 9, 12, 5, 3, 2]\n",
            "\n",
            "After Sort (Asending)  -->  [2, 3, 3, 5, 6, 9, 12]\n",
            "\n",
            "After Sort (Desending) -->  [12, 9, 6, 5, 3, 3, 2]\n"
          ]
        }
      ]
    },
    {
      "cell_type": "code",
      "source": [
        "T = [\"Pratham\", 'Sharma', 3.14, 3]   # Convert list to tuple\n",
        "#T = tuple((\"Pratham\", 'Sharma', 3.14, 3))  # Also Works\n",
        "\n",
        "print (\"T               -->\", T)\n",
        "print (\"Num of elements -->\", len(T))\n",
        "print (\"Type of Object  -->\", type(T))"
      ],
      "metadata": {
        "colab": {
          "base_uri": "https://localhost:8080/"
        },
        "id": "_0n_wMu0NBW8",
        "outputId": "9b2b2685-ab7b-4b14-b615-d3b418515784"
      },
      "execution_count": null,
      "outputs": [
        {
          "output_type": "stream",
          "name": "stdout",
          "text": [
            "T               --> ['Pratham', 'Sharma', 3.14, 3]\n",
            "Num of elements --> 4\n",
            "Type of Object  --> <class 'list'>\n"
          ]
        }
      ]
    },
    {
      "cell_type": "code",
      "source": [
        "T = (\"Pratham\", 'Sharma', 3.14, 3)\n",
        "print (\"T            -->\", T)\n",
        "\n",
        "T1 = list(T)\n",
        "T1.insert( 2, \"Rahul\")\n",
        "T = tuple(T1)\n",
        "\n",
        "print (\"After Insert -->\", T)\n"
      ],
      "metadata": {
        "colab": {
          "base_uri": "https://localhost:8080/"
        },
        "id": "CkiGE0nGOfBt",
        "outputId": "ababf57a-fdd5-4db1-db10-f7cfd5308558"
      },
      "execution_count": null,
      "outputs": [
        {
          "output_type": "stream",
          "name": "stdout",
          "text": [
            "T            --> ('Pratham', 'Sharma', 3.14, 3)\n",
            "After Insert --> ('Pratham', 'Sharma', 'Rahul', 3.14, 3)\n",
            "T            --> ('Pratham', 'Sharma', 3.14, 3)\n",
            "After Insert --> ('Pratham', 'Sharma', 'Rahul', 3.14, 3)\n"
          ]
        }
      ]
    },
    {
      "cell_type": "code",
      "source": [
        "import sys\n",
        "print (sys.argv)\n",
        "a = int(sys.argv[1])\n",
        "b = int(sys.argv[2])\n",
        "c = a + b\n",
        "print (a, \" + \", b, \" --> \", c)"
      ],
      "metadata": {
        "colab": {
          "base_uri": "https://localhost:8080/",
          "height": 248
        },
        "id": "J-ReK_Igt1TB",
        "outputId": "35a4c3b5-f3e4-4354-cfbf-a3ac88d67e33"
      },
      "execution_count": null,
      "outputs": [
        {
          "output_type": "stream",
          "name": "stdout",
          "text": [
            "['/usr/local/lib/python3.10/dist-packages/colab_kernel_launcher.py', '-f', '/root/.local/share/jupyter/runtime/kernel-74c1a0ea-13d3-47eb-9a4e-180e10354a9e.json']\n"
          ]
        },
        {
          "output_type": "error",
          "ename": "ValueError",
          "evalue": "invalid literal for int() with base 10: '-f'",
          "traceback": [
            "\u001b[0;31m---------------------------------------------------------------------------\u001b[0m",
            "\u001b[0;31mValueError\u001b[0m                                Traceback (most recent call last)",
            "\u001b[0;32m<ipython-input-1-d1fab89c1e21>\u001b[0m in \u001b[0;36m<cell line: 3>\u001b[0;34m()\u001b[0m\n\u001b[1;32m      1\u001b[0m \u001b[0;32mimport\u001b[0m \u001b[0msys\u001b[0m\u001b[0;34m\u001b[0m\u001b[0;34m\u001b[0m\u001b[0m\n\u001b[1;32m      2\u001b[0m \u001b[0mprint\u001b[0m \u001b[0;34m(\u001b[0m\u001b[0msys\u001b[0m\u001b[0;34m.\u001b[0m\u001b[0margv\u001b[0m\u001b[0;34m)\u001b[0m\u001b[0;34m\u001b[0m\u001b[0;34m\u001b[0m\u001b[0m\n\u001b[0;32m----> 3\u001b[0;31m \u001b[0ma\u001b[0m \u001b[0;34m=\u001b[0m \u001b[0mint\u001b[0m\u001b[0;34m(\u001b[0m\u001b[0msys\u001b[0m\u001b[0;34m.\u001b[0m\u001b[0margv\u001b[0m\u001b[0;34m[\u001b[0m\u001b[0;36m1\u001b[0m\u001b[0;34m]\u001b[0m\u001b[0;34m)\u001b[0m\u001b[0;34m\u001b[0m\u001b[0;34m\u001b[0m\u001b[0m\n\u001b[0m\u001b[1;32m      4\u001b[0m \u001b[0mb\u001b[0m \u001b[0;34m=\u001b[0m \u001b[0mint\u001b[0m\u001b[0;34m(\u001b[0m\u001b[0msys\u001b[0m\u001b[0;34m.\u001b[0m\u001b[0margv\u001b[0m\u001b[0;34m[\u001b[0m\u001b[0;36m2\u001b[0m\u001b[0;34m]\u001b[0m\u001b[0;34m)\u001b[0m\u001b[0;34m\u001b[0m\u001b[0;34m\u001b[0m\u001b[0m\n\u001b[1;32m      5\u001b[0m \u001b[0mc\u001b[0m \u001b[0;34m=\u001b[0m \u001b[0ma\u001b[0m \u001b[0;34m+\u001b[0m \u001b[0mb\u001b[0m\u001b[0;34m\u001b[0m\u001b[0;34m\u001b[0m\u001b[0m\n",
            "\u001b[0;31mValueError\u001b[0m: invalid literal for int() with base 10: '-f'"
          ]
        }
      ]
    },
    {
      "cell_type": "code",
      "source": [
        "L=[3, 6, 9, 12, 5, 3, 2]\n",
        "n= input(\"gimme number: \")\n",
        "if (n in L)== True:\n",
        "  print(\"present\")\n",
        "else:\n",
        "  print(\"absent\")"
      ],
      "metadata": {
        "colab": {
          "base_uri": "https://localhost:8080/"
        },
        "id": "yzC45_3lwtpz",
        "outputId": "634694f9-76ab-438c-993c-2449f2eeba25"
      },
      "execution_count": null,
      "outputs": [
        {
          "output_type": "stream",
          "name": "stdout",
          "text": [
            "gimme number: 6\n",
            "absent\n"
          ]
        }
      ]
    },
    {
      "cell_type": "code",
      "source": [
        "import random as r\n",
        "print(142200000+round(10*r.random()))"
      ],
      "metadata": {
        "colab": {
          "base_uri": "https://localhost:8080/"
        },
        "id": "CJyHgtMK0074",
        "outputId": "de86c058-6b29-4bb2-dfe8-c572937e050b"
      },
      "execution_count": null,
      "outputs": [
        {
          "output_type": "stream",
          "name": "stdout",
          "text": [
            "142200003\n"
          ]
        }
      ]
    },
    {
      "cell_type": "code",
      "source": [
        "T = [\"Yashika\", 1005, \"Patiala\", 8]\n",
        "print(T)\n",
        "T.insert(3,5.5555)\n",
        "print (T)\n",
        "print(type(T))"
      ],
      "metadata": {
        "colab": {
          "base_uri": "https://localhost:8080/"
        },
        "id": "Mtw5xkvS4frG",
        "outputId": "d41134fe-883a-435b-c375-5cadb51cdcce"
      },
      "execution_count": null,
      "outputs": [
        {
          "output_type": "stream",
          "name": "stdout",
          "text": [
            "['Yashika', 1005, 'Patiala', 8]\n",
            "['Yashika', 1005, 'Patiala', 5.5555, 8]\n",
            "<class 'list'>\n"
          ]
        }
      ]
    },
    {
      "cell_type": "code",
      "source": [
        "L = list((\"abc\",44))\n",
        "l = []\n",
        "for i in range(0,2):\n",
        " l[i] = input()\n",
        "\n",
        "print(l)"
      ],
      "metadata": {
        "colab": {
          "base_uri": "https://localhost:8080/",
          "height": 228
        },
        "id": "v0hhAwO34u6n",
        "outputId": "a72a1b98-9d74-47f6-d4db-b9ce0138cfd8"
      },
      "execution_count": null,
      "outputs": [
        {
          "name": "stdout",
          "output_type": "stream",
          "text": [
            "1\n"
          ]
        },
        {
          "output_type": "error",
          "ename": "IndexError",
          "evalue": "list assignment index out of range",
          "traceback": [
            "\u001b[0;31m---------------------------------------------------------------------------\u001b[0m",
            "\u001b[0;31mIndexError\u001b[0m                                Traceback (most recent call last)",
            "\u001b[0;32m<ipython-input-8-88039e153662>\u001b[0m in \u001b[0;36m<cell line: 3>\u001b[0;34m()\u001b[0m\n\u001b[1;32m      2\u001b[0m \u001b[0ml\u001b[0m \u001b[0;34m=\u001b[0m \u001b[0;34m[\u001b[0m\u001b[0;34m]\u001b[0m\u001b[0;34m\u001b[0m\u001b[0;34m\u001b[0m\u001b[0m\n\u001b[1;32m      3\u001b[0m \u001b[0;32mfor\u001b[0m \u001b[0mi\u001b[0m \u001b[0;32min\u001b[0m \u001b[0mrange\u001b[0m\u001b[0;34m(\u001b[0m\u001b[0;36m0\u001b[0m\u001b[0;34m,\u001b[0m\u001b[0;36m2\u001b[0m\u001b[0;34m)\u001b[0m\u001b[0;34m:\u001b[0m\u001b[0;34m\u001b[0m\u001b[0;34m\u001b[0m\u001b[0m\n\u001b[0;32m----> 4\u001b[0;31m  \u001b[0ml\u001b[0m\u001b[0;34m[\u001b[0m\u001b[0mi\u001b[0m\u001b[0;34m]\u001b[0m \u001b[0;34m=\u001b[0m \u001b[0minput\u001b[0m\u001b[0;34m(\u001b[0m\u001b[0;34m)\u001b[0m\u001b[0;34m\u001b[0m\u001b[0;34m\u001b[0m\u001b[0m\n\u001b[0m\u001b[1;32m      5\u001b[0m \u001b[0;34m\u001b[0m\u001b[0m\n\u001b[1;32m      6\u001b[0m \u001b[0mprint\u001b[0m\u001b[0;34m(\u001b[0m\u001b[0ml\u001b[0m\u001b[0;34m)\u001b[0m\u001b[0;34m\u001b[0m\u001b[0;34m\u001b[0m\u001b[0m\n",
            "\u001b[0;31mIndexError\u001b[0m: list assignment index out of range"
          ]
        }
      ]
    },
    {
      "cell_type": "code",
      "source": [
        "A = set([1,2,3,4])\n",
        "print(A.pop())"
      ],
      "metadata": {
        "colab": {
          "base_uri": "https://localhost:8080/"
        },
        "id": "tXy8BOuM5HOQ",
        "outputId": "9a6a5712-6f21-4826-f401-082c46e5d955"
      },
      "execution_count": null,
      "outputs": [
        {
          "output_type": "stream",
          "name": "stdout",
          "text": [
            "1\n"
          ]
        }
      ]
    },
    {
      "cell_type": "code",
      "source": [
        "a = set(['A', 'B', 'E', 'F' ])\n",
        "\n",
        "\n",
        "a.pop()\n",
        "print (a)\n",
        "\n"
      ],
      "metadata": {
        "colab": {
          "base_uri": "https://localhost:8080/"
        },
        "id": "rJis0K9U5y-V",
        "outputId": "6d8c9744-c7be-4be2-a9cb-38edc441c292"
      },
      "execution_count": null,
      "outputs": [
        {
          "output_type": "stream",
          "name": "stdout",
          "text": [
            "{'A', 'B', 'F'}\n"
          ]
        }
      ]
    },
    {
      "cell_type": "code",
      "source": [
        "T= (\"ab\", \"cd\", 3.14)\n",
        "i = 0\n",
        "while i < len(T):\n",
        " print(T[i])\n",
        " i+=1"
      ],
      "metadata": {
        "colab": {
          "base_uri": "https://localhost:8080/"
        },
        "id": "0PF9cnXJv3K3",
        "outputId": "6bc756e8-4203-488a-8e56-65b6550f7e85"
      },
      "execution_count": null,
      "outputs": [
        {
          "output_type": "stream",
          "name": "stdout",
          "text": [
            "ab\n",
            "cd\n",
            "3.14\n"
          ]
        }
      ]
    },
    {
      "cell_type": "code",
      "source": [
        "T= (\"ab\", \"cd\", 3.14)\n",
        "for s in T:\n",
        "  print(s)"
      ],
      "metadata": {
        "colab": {
          "base_uri": "https://localhost:8080/"
        },
        "id": "ug1bgcfXwyv4",
        "outputId": "3d326450-26e5-414b-f895-e9b6afe63cef"
      },
      "execution_count": null,
      "outputs": [
        {
          "output_type": "stream",
          "name": "stdout",
          "text": [
            "ab\n",
            "cd\n",
            "3.14\n"
          ]
        }
      ]
    },
    {
      "cell_type": "code",
      "source": [
        "T = (\"sam\", \"Shyam\", \"Human\", \"Ant\")      # String Tuple\n",
        "print (\"T   -->\", T)\n",
        "print (\"Max -->\", max(T))\n",
        "print (\"Min -->\", min(T))"
      ],
      "metadata": {
        "colab": {
          "base_uri": "https://localhost:8080/"
        },
        "id": "4-rDySL4x0M2",
        "outputId": "76828ee3-2f8a-457e-d9b0-98c8a2f6917f"
      },
      "execution_count": null,
      "outputs": [
        {
          "output_type": "stream",
          "name": "stdout",
          "text": [
            "T   --> ('sam', 'Shyam', 'Human', 'Ant')\n",
            "Max --> sam\n",
            "Min --> Ant\n"
          ]
        }
      ]
    },
    {
      "cell_type": "code",
      "source": [
        "L = [\"Pratham\",  'Sharma', 3.14,  3 ]\n",
        "i = 0\n",
        "while i < len(L):\n",
        "  print(L[i])\n",
        "  i+=1"
      ],
      "metadata": {
        "id": "HlOLIt8S2StK"
      },
      "execution_count": null,
      "outputs": []
    },
    {
      "cell_type": "code",
      "source": [
        "filename= input(\"eneter file name: \")\n",
        "try:\n",
        "  fp= open(filename)\n",
        "  fp.close()\n",
        "except:\n",
        "  print(\"error \\\"%s\\\" not found\"%(filename))"
      ],
      "metadata": {
        "colab": {
          "base_uri": "https://localhost:8080/"
        },
        "id": "DATlFcUr6Mkp",
        "outputId": "480fd4ff-1514-433e-fbd4-6ec33710a6e9"
      },
      "execution_count": null,
      "outputs": [
        {
          "output_type": "stream",
          "name": "stdout",
          "text": [
            "eneter file name: txtx\n",
            "error \"txtx\" not found\n"
          ]
        }
      ]
    },
    {
      "cell_type": "code",
      "source": [
        "import random as r\n",
        "print(1400000+round(10*r.random()))"
      ],
      "metadata": {
        "colab": {
          "base_uri": "https://localhost:8080/"
        },
        "id": "QLDkumW57T3s",
        "outputId": "e2efa72d-f604-4f67-ffb1-824bb40d1f32"
      },
      "execution_count": null,
      "outputs": [
        {
          "output_type": "stream",
          "name": "stdout",
          "text": [
            "1400004\n"
          ]
        }
      ]
    },
    {
      "cell_type": "code",
      "source": [
        "import random as r\n",
        "A=[1, 2, 3, 4, 5, 6, 7, 8, 9, 10]\n",
        "\n",
        "print(r.sample(A,2))"
      ],
      "metadata": {
        "colab": {
          "base_uri": "https://localhost:8080/"
        },
        "id": "z6eYckBs8k7L",
        "outputId": "db760daa-011b-468f-fb48-ae4c1f05c967"
      },
      "execution_count": null,
      "outputs": [
        {
          "output_type": "stream",
          "name": "stdout",
          "text": [
            "[5, 6]\n"
          ]
        }
      ]
    },
    {
      "cell_type": "code",
      "source": [
        "L = [\"Pratham\",  'Sharma', 3.14,  3 ]\n",
        "i=0\n",
        "while i < len(L):\n",
        "\tprint (L[i])\n",
        "\ti+=1\n"
      ],
      "metadata": {
        "colab": {
          "base_uri": "https://localhost:8080/"
        },
        "id": "PvCa7UxE2iYI",
        "outputId": "7720d228-9405-41e2-c937-e470dc193ff3"
      },
      "execution_count": null,
      "outputs": [
        {
          "output_type": "stream",
          "name": "stdout",
          "text": [
            "Pratham\n",
            "Sharma\n",
            "3.14\n",
            "3\n"
          ]
        }
      ]
    },
    {
      "cell_type": "code",
      "source": [
        "import random as r\n",
        "import string as s\n",
        "\n",
        "psswrd2= r.sample(s.digits+s.ascii_letters, 5)\n",
        "print(psswrd2)"
      ],
      "metadata": {
        "colab": {
          "base_uri": "https://localhost:8080/"
        },
        "id": "AiE85w46888l",
        "outputId": "d27a4d8c-707c-47e6-93e5-875051fd6c16"
      },
      "execution_count": null,
      "outputs": [
        {
          "output_type": "stream",
          "name": "stdout",
          "text": [
            "['z', 'b', 'd', 'i', '7']\n"
          ]
        }
      ]
    },
    {
      "cell_type": "code",
      "source": [
        "name=input(\"Enter your name: \")\n",
        "age=int(input(\"Enter your age : \"))\n",
        "price=float(input(\"Enter the book price: \"))\n",
        "s= \"\\nYour name is %s and age is %d and the price of book is %f\" %(name.upper(), age, price)\n",
        "print(s)"
      ],
      "metadata": {
        "colab": {
          "base_uri": "https://localhost:8080/"
        },
        "id": "6Hb5TonjCD20",
        "outputId": "41ff2d41-f691-4df0-86d8-022206f45cf9"
      },
      "execution_count": null,
      "outputs": [
        {
          "output_type": "stream",
          "name": "stdout",
          "text": [
            "Enter your name: shamu\n",
            "Enter your age : 19\n",
            "Enter the book price: 13.567\n",
            "\n",
            "Your name is SHAMU and age is 19 and the price of book is 13.567000\n"
          ]
        }
      ]
    },
    {
      "cell_type": "code",
      "source": [
        "\n",
        "var =\" Indian,   Army    \"\n",
        "\n",
        "\n",
        "# Strip + Split\n",
        "print(\"var split --> \", var.strip().split(','))\n"
      ],
      "metadata": {
        "colab": {
          "base_uri": "https://localhost:8080/"
        },
        "id": "79eK3T6qDC6n",
        "outputId": "6e1699bb-fe80-4472-cbd1-84caa361aa2e"
      },
      "execution_count": null,
      "outputs": [
        {
          "output_type": "stream",
          "name": "stdout",
          "text": [
            "var split -->  ['Indian,', 'Army']\n",
            "var split -->  ['', 'Indian,', '', '', 'Army', '', '', '', '']\n",
            "var split -->  [' Indian', '   Army    ']\n",
            "var split -->  ['Indian', '   Army']\n"
          ]
        }
      ]
    },
    {
      "cell_type": "code",
      "source": [
        "def checkprime(n):\n",
        "  for i in range(2, n//2 +1):\n",
        "    if n%i==0:\n",
        "      return 0\n",
        "  return 1\n",
        "n= int(input(\"number : \"))\n",
        "print(checkprime(n))"
      ],
      "metadata": {
        "colab": {
          "base_uri": "https://localhost:8080/"
        },
        "id": "LaGxvmKuFSrY",
        "outputId": "bb5dd661-7af6-46d3-ec72-4ecbe0567db7"
      },
      "execution_count": null,
      "outputs": [
        {
          "output_type": "stream",
          "name": "stdout",
          "text": [
            "number : 23\n",
            "1\n"
          ]
        }
      ]
    },
    {
      "cell_type": "code",
      "source": [
        "# WAP to add all the numbers from 1 to n and n is given by user\n",
        "\n",
        "n= int(input(\"give a number: \"))\n",
        "for i in range(0,n):\n",
        "\n",
        "  print(i)\n",
        "  i+=1"
      ],
      "metadata": {
        "colab": {
          "base_uri": "https://localhost:8080/"
        },
        "id": "bISvVY1YJTlW",
        "outputId": "d4bbe71f-9d3d-4491-e93d-92ba5eec5b18"
      },
      "execution_count": null,
      "outputs": [
        {
          "output_type": "stream",
          "name": "stdout",
          "text": [
            "give a number: 10\n",
            "0\n",
            "1\n",
            "2\n",
            "3\n",
            "4\n",
            "5\n",
            "6\n",
            "7\n",
            "8\n",
            "9\n"
          ]
        }
      ]
    },
    {
      "cell_type": "code",
      "source": [
        "def is_prime(n):\n",
        "    for i in range(2, n//2 +1):\n",
        "        if n % i == 0:\n",
        "            return False\n",
        "    return True\n",
        "print(is_prime(n))\n",
        "\n",
        "def sum_primes_up_to_n(n):\n",
        "    s = 0\n",
        "    for i in range(2, n + 1):\n",
        "        if is_prime(i):\n",
        "            s+=i\n",
        "    return s\n",
        "\n",
        "n = int(input(\"Enter a number (n): \"))\n",
        "result = sum_primes_up_to_n(n)\n",
        "print(result)"
      ],
      "metadata": {
        "colab": {
          "base_uri": "https://localhost:8080/"
        },
        "id": "HX0lfeS6J9rO",
        "outputId": "2f927896-700a-44f0-9e90-d402c31915b8"
      },
      "execution_count": null,
      "outputs": [
        {
          "output_type": "stream",
          "name": "stdout",
          "text": [
            "True\n",
            "Enter a number (n): 20\n",
            "77\n"
          ]
        }
      ]
    },
    {
      "cell_type": "code",
      "source": [
        "A = set([1,2,3,4])\n",
        "A.pop()\n",
        "print(A)\n",
        "print(A)\n",
        "print(A.pop())\n",
        "print(A)\n",
        "\n",
        "A.add(0)\n",
        "print(A)\n",
        "A.add(1000)\n",
        "print(A)"
      ],
      "metadata": {
        "colab": {
          "base_uri": "https://localhost:8080/"
        },
        "id": "xmjWSCNONhZm",
        "outputId": "f385a2b6-1d3c-4772-a9cc-bbbf0803a2eb"
      },
      "execution_count": null,
      "outputs": [
        {
          "output_type": "stream",
          "name": "stdout",
          "text": [
            "{2, 3, 4}\n",
            "{2, 3, 4}\n",
            "2\n",
            "{3, 4}\n",
            "{0, 3, 4}\n",
            "{0, 3, 4, 1000}\n"
          ]
        }
      ]
    },
    {
      "cell_type": "code",
      "source": [
        "L = list((\"abc\",44))\n",
        "l = []\n",
        "for i in range(0,2):\n",
        " l[i] = input()\n",
        "\n",
        "print(l)"
      ],
      "metadata": {
        "colab": {
          "base_uri": "https://localhost:8080/",
          "height": 356
        },
        "id": "4cieXHsRN2TT",
        "outputId": "352d4197-ca80-4550-88df-bd1f66643d52"
      },
      "execution_count": null,
      "outputs": [
        {
          "output_type": "error",
          "ename": "KeyboardInterrupt",
          "evalue": "Interrupted by user",
          "traceback": [
            "\u001b[0;31m---------------------------------------------------------------------------\u001b[0m",
            "\u001b[0;31mKeyboardInterrupt\u001b[0m                         Traceback (most recent call last)",
            "\u001b[0;32m<ipython-input-75-88039e153662>\u001b[0m in \u001b[0;36m<cell line: 3>\u001b[0;34m()\u001b[0m\n\u001b[1;32m      2\u001b[0m \u001b[0ml\u001b[0m \u001b[0;34m=\u001b[0m \u001b[0;34m[\u001b[0m\u001b[0;34m]\u001b[0m\u001b[0;34m\u001b[0m\u001b[0;34m\u001b[0m\u001b[0m\n\u001b[1;32m      3\u001b[0m \u001b[0;32mfor\u001b[0m \u001b[0mi\u001b[0m \u001b[0;32min\u001b[0m \u001b[0mrange\u001b[0m\u001b[0;34m(\u001b[0m\u001b[0;36m0\u001b[0m\u001b[0;34m,\u001b[0m\u001b[0;36m2\u001b[0m\u001b[0;34m)\u001b[0m\u001b[0;34m:\u001b[0m\u001b[0;34m\u001b[0m\u001b[0;34m\u001b[0m\u001b[0m\n\u001b[0;32m----> 4\u001b[0;31m  \u001b[0ml\u001b[0m\u001b[0;34m[\u001b[0m\u001b[0mi\u001b[0m\u001b[0;34m]\u001b[0m \u001b[0;34m=\u001b[0m \u001b[0minput\u001b[0m\u001b[0;34m(\u001b[0m\u001b[0;34m)\u001b[0m\u001b[0;34m\u001b[0m\u001b[0;34m\u001b[0m\u001b[0m\n\u001b[0m\u001b[1;32m      5\u001b[0m \u001b[0;34m\u001b[0m\u001b[0m\n\u001b[1;32m      6\u001b[0m \u001b[0mprint\u001b[0m\u001b[0;34m(\u001b[0m\u001b[0ml\u001b[0m\u001b[0;34m)\u001b[0m\u001b[0;34m\u001b[0m\u001b[0;34m\u001b[0m\u001b[0m\n",
            "\u001b[0;32m/usr/local/lib/python3.10/dist-packages/ipykernel/kernelbase.py\u001b[0m in \u001b[0;36mraw_input\u001b[0;34m(self, prompt)\u001b[0m\n\u001b[1;32m    849\u001b[0m                 \u001b[0;34m\"raw_input was called, but this frontend does not support input requests.\"\u001b[0m\u001b[0;34m\u001b[0m\u001b[0;34m\u001b[0m\u001b[0m\n\u001b[1;32m    850\u001b[0m             )\n\u001b[0;32m--> 851\u001b[0;31m         return self._input_request(str(prompt),\n\u001b[0m\u001b[1;32m    852\u001b[0m             \u001b[0mself\u001b[0m\u001b[0;34m.\u001b[0m\u001b[0m_parent_ident\u001b[0m\u001b[0;34m,\u001b[0m\u001b[0;34m\u001b[0m\u001b[0;34m\u001b[0m\u001b[0m\n\u001b[1;32m    853\u001b[0m             \u001b[0mself\u001b[0m\u001b[0;34m.\u001b[0m\u001b[0m_parent_header\u001b[0m\u001b[0;34m,\u001b[0m\u001b[0;34m\u001b[0m\u001b[0;34m\u001b[0m\u001b[0m\n",
            "\u001b[0;32m/usr/local/lib/python3.10/dist-packages/ipykernel/kernelbase.py\u001b[0m in \u001b[0;36m_input_request\u001b[0;34m(self, prompt, ident, parent, password)\u001b[0m\n\u001b[1;32m    893\u001b[0m             \u001b[0;32mexcept\u001b[0m \u001b[0mKeyboardInterrupt\u001b[0m\u001b[0;34m:\u001b[0m\u001b[0;34m\u001b[0m\u001b[0;34m\u001b[0m\u001b[0m\n\u001b[1;32m    894\u001b[0m                 \u001b[0;31m# re-raise KeyboardInterrupt, to truncate traceback\u001b[0m\u001b[0;34m\u001b[0m\u001b[0;34m\u001b[0m\u001b[0m\n\u001b[0;32m--> 895\u001b[0;31m                 \u001b[0;32mraise\u001b[0m \u001b[0mKeyboardInterrupt\u001b[0m\u001b[0;34m(\u001b[0m\u001b[0;34m\"Interrupted by user\"\u001b[0m\u001b[0;34m)\u001b[0m \u001b[0;32mfrom\u001b[0m \u001b[0;32mNone\u001b[0m\u001b[0;34m\u001b[0m\u001b[0;34m\u001b[0m\u001b[0m\n\u001b[0m\u001b[1;32m    896\u001b[0m             \u001b[0;32mexcept\u001b[0m \u001b[0mException\u001b[0m \u001b[0;32mas\u001b[0m \u001b[0me\u001b[0m\u001b[0;34m:\u001b[0m\u001b[0;34m\u001b[0m\u001b[0;34m\u001b[0m\u001b[0m\n\u001b[1;32m    897\u001b[0m                 \u001b[0mself\u001b[0m\u001b[0;34m.\u001b[0m\u001b[0mlog\u001b[0m\u001b[0;34m.\u001b[0m\u001b[0mwarning\u001b[0m\u001b[0;34m(\u001b[0m\u001b[0;34m\"Invalid Message:\"\u001b[0m\u001b[0;34m,\u001b[0m \u001b[0mexc_info\u001b[0m\u001b[0;34m=\u001b[0m\u001b[0;32mTrue\u001b[0m\u001b[0;34m)\u001b[0m\u001b[0;34m\u001b[0m\u001b[0;34m\u001b[0m\u001b[0m\n",
            "\u001b[0;31mKeyboardInterrupt\u001b[0m: Interrupted by user"
          ]
        }
      ]
    },
    {
      "cell_type": "code",
      "source": [
        "import sys\n",
        "print (sys.argv)\n",
        "a = int(sys.argv[1]) \t# First Number\n",
        "b = int(sys.argv[2])\t# Second Number\n",
        "c = a +\" \"+ b\n",
        "print (a, \" + \", b, \" --> \", c)"
      ],
      "metadata": {
        "colab": {
          "base_uri": "https://localhost:8080/",
          "height": 248
        },
        "id": "vsgHpCXQTMJe",
        "outputId": "258f4173-6bfd-42b8-84b9-c343debd330d"
      },
      "execution_count": null,
      "outputs": [
        {
          "output_type": "stream",
          "name": "stdout",
          "text": [
            "['/usr/local/lib/python3.10/dist-packages/colab_kernel_launcher.py', '-f', '/root/.local/share/jupyter/runtime/kernel-ccfd41cc-ddca-47bd-9f88-c867320455c9.json']\n"
          ]
        },
        {
          "output_type": "error",
          "ename": "ValueError",
          "evalue": "invalid literal for int() with base 10: '-f'",
          "traceback": [
            "\u001b[0;31m---------------------------------------------------------------------------\u001b[0m",
            "\u001b[0;31mValueError\u001b[0m                                Traceback (most recent call last)",
            "\u001b[0;32m<ipython-input-78-4cbdd116cca1>\u001b[0m in \u001b[0;36m<cell line: 3>\u001b[0;34m()\u001b[0m\n\u001b[1;32m      1\u001b[0m \u001b[0;32mimport\u001b[0m \u001b[0msys\u001b[0m\u001b[0;34m\u001b[0m\u001b[0;34m\u001b[0m\u001b[0m\n\u001b[1;32m      2\u001b[0m \u001b[0mprint\u001b[0m \u001b[0;34m(\u001b[0m\u001b[0msys\u001b[0m\u001b[0;34m.\u001b[0m\u001b[0margv\u001b[0m\u001b[0;34m)\u001b[0m\u001b[0;34m\u001b[0m\u001b[0;34m\u001b[0m\u001b[0m\n\u001b[0;32m----> 3\u001b[0;31m \u001b[0ma\u001b[0m \u001b[0;34m=\u001b[0m \u001b[0mint\u001b[0m\u001b[0;34m(\u001b[0m\u001b[0msys\u001b[0m\u001b[0;34m.\u001b[0m\u001b[0margv\u001b[0m\u001b[0;34m[\u001b[0m\u001b[0;36m1\u001b[0m\u001b[0;34m]\u001b[0m\u001b[0;34m)\u001b[0m    \u001b[0;31m# First Number\u001b[0m\u001b[0;34m\u001b[0m\u001b[0;34m\u001b[0m\u001b[0m\n\u001b[0m\u001b[1;32m      4\u001b[0m \u001b[0mb\u001b[0m \u001b[0;34m=\u001b[0m \u001b[0mint\u001b[0m\u001b[0;34m(\u001b[0m\u001b[0msys\u001b[0m\u001b[0;34m.\u001b[0m\u001b[0margv\u001b[0m\u001b[0;34m[\u001b[0m\u001b[0;36m2\u001b[0m\u001b[0;34m]\u001b[0m\u001b[0;34m)\u001b[0m    \u001b[0;31m# Second Number\u001b[0m\u001b[0;34m\u001b[0m\u001b[0;34m\u001b[0m\u001b[0m\n\u001b[1;32m      5\u001b[0m \u001b[0mc\u001b[0m \u001b[0;34m=\u001b[0m \u001b[0ma\u001b[0m \u001b[0;34m+\u001b[0m\u001b[0;34m\" \"\u001b[0m\u001b[0;34m+\u001b[0m \u001b[0mb\u001b[0m\u001b[0;34m\u001b[0m\u001b[0;34m\u001b[0m\u001b[0m\n",
            "\u001b[0;31mValueError\u001b[0m: invalid literal for int() with base 10: '-f'"
          ]
        }
      ]
    }
  ]
}