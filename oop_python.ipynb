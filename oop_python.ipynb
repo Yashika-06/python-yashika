{
  "nbformat": 4,
  "nbformat_minor": 0,
  "metadata": {
    "colab": {
      "provenance": [],
      "include_colab_link": true
    },
    "kernelspec": {
      "name": "python3",
      "display_name": "Python 3"
    },
    "language_info": {
      "name": "python"
    }
  },
  "cells": [
    {
      "cell_type": "markdown",
      "metadata": {
        "id": "view-in-github",
        "colab_type": "text"
      },
      "source": [
        "<a href=\"https://colab.research.google.com/github/Yashika-06/python-yashika/blob/main/oop_python.ipynb\" target=\"_parent\"><img src=\"https://colab.research.google.com/assets/colab-badge.svg\" alt=\"Open In Colab\"/></a>"
      ]
    },
    {
      "cell_type": "code",
      "execution_count": null,
      "metadata": {
        "colab": {
          "base_uri": "https://localhost:8080/"
        },
        "id": "2j2j_dTOaKo9",
        "outputId": "9d5af8ab-9748-45a2-f607-3262e36da33b"
      },
      "outputs": [
        {
          "output_type": "stream",
          "name": "stdout",
          "text": [
            "mithu is 1 years old\n",
            "pithu is 0.5 years old\n"
          ]
        }
      ],
      "source": [
        "class Parrot:\n",
        "    # class attribute\n",
        "    name = \"\"\n",
        "    age = 0\n",
        "# create parrot1 object\n",
        "parrot1 = Parrot()\n",
        "parrot1.name = \"mithu\"\n",
        "parrot1.age = 1\n",
        "# create another object parrot2\n",
        "parrot2 = Parrot()\n",
        "parrot2.name = \"pithu\"\n",
        "parrot2.age = 0.5\n",
        "# access attributes\n",
        "print(parrot1.name, \"is\", parrot1.age, \"years old\")\n",
        "print(parrot2.name, \"is\", parrot2.age, \"years old\")"
      ]
    },
    {
      "cell_type": "code",
      "source": [
        "class mynumber:\n",
        "\tdef __init__(self, value): # constructor\n",
        "\t\tself.value = value\n",
        "\n",
        "\tdef print_value(self):\n",
        "\t\tprint(self.value)\n",
        "\n",
        "obj1 = mynumber(17)   # constructor automatically called\n",
        "obj1.print_value()\n"
      ],
      "metadata": {
        "colab": {
          "base_uri": "https://localhost:8080/"
        },
        "id": "9kwprLJnfpDk",
        "outputId": "c48e35bd-5fbc-4b13-99b9-63602c2909c9"
      },
      "execution_count": null,
      "outputs": [
        {
          "output_type": "stream",
          "name": "stdout",
          "text": [
            "17\n"
          ]
        }
      ]
    },
    {
      "cell_type": "code",
      "source": [
        "class car():\n",
        "\t# init method or constructor\n",
        "\tdef __init__(self, model, color):\n",
        "\t\tself.model = model\n",
        "\t\tself.color = color\n",
        "\n",
        "\tdef show(self):\n",
        "\t\tprint(\"Model is\", self.model )\n",
        "\t\tprint(\"color is\", self.color )\n",
        "\n",
        "# both objects have different self which contain their attributes\n",
        "audi = car(\"audi a4\", \"blue\")\n",
        "ferrari = car(\"ferrari 488\", \"green\")\n",
        "\n",
        "audi.show()\t # same output as car.show(audi)\n",
        "ferrari.show() # same output as car.show(ferrari)\n",
        "\n",
        "print(\"Model for audi is \",audi.model)\n",
        "print(\"Colour for ferrari is \",ferrari.color)\n"
      ],
      "metadata": {
        "colab": {
          "base_uri": "https://localhost:8080/"
        },
        "id": "e9cp06EOgeQh",
        "outputId": "d960c5d2-5e00-4072-b9b5-02860646e014"
      },
      "execution_count": null,
      "outputs": [
        {
          "output_type": "stream",
          "name": "stdout",
          "text": [
            "Model is audi a4\n",
            "color is blue\n",
            "Model is ferrari 488\n",
            "color is green\n",
            "Model for audi is  audi a4\n",
            "Colour for ferrari is  green\n"
          ]
        }
      ]
    },
    {
      "cell_type": "code",
      "source": [
        "# base class\n",
        "class Animal:\n",
        "    def eat(self):\n",
        "        print( \"I can eat!\")\n",
        "    def sleep(self):\n",
        "        print(\"I can sleep!\")\n",
        "# derived class\n",
        "class Dog(Animal):    # new class Dog inherits Animal stuff\n",
        "    def bark(self):\n",
        "        print(\"I can bark! Woof woof!!\")\n",
        "\n",
        "# Create object of the Dog class\n",
        "dog1 = Dog()\n",
        "# Calling members of the base class\n",
        "dog1.eat()\n",
        "dog1.sleep()\n",
        "# Calling member of the derived class\n",
        "dog1.bark();"
      ],
      "metadata": {
        "colab": {
          "base_uri": "https://localhost:8080/"
        },
        "id": "WMnEosZudSjB",
        "outputId": "da8b9a51-080e-4332-b476-f4b247fbe88f"
      },
      "execution_count": null,
      "outputs": [
        {
          "output_type": "stream",
          "name": "stdout",
          "text": [
            "I can eat!\n",
            "I can sleep!\n",
            "I can bark! Woof woof!!\n"
          ]
        }
      ]
    },
    {
      "cell_type": "code",
      "source": [
        "class Computer:\n",
        "    def __init__(self):\n",
        "        self.__maxprice = 900 # _maxprice is a private variable\n",
        "    def sell(self):\n",
        "        print(\"Selling Price: \",self.__maxprice)\n",
        "    def setMaxPrice(self, price):\n",
        "        self.__maxprice = price\n",
        "\n",
        "c = Computer()\n",
        "c.sell()\n",
        "# using setter function\n",
        "c.setMaxPrice(1000)\n",
        "c.sell()"
      ],
      "metadata": {
        "colab": {
          "base_uri": "https://localhost:8080/"
        },
        "id": "nqjyNXSldeKP",
        "outputId": "eda21436-b0ce-4cdc-913d-6fb8d8c6fabe"
      },
      "execution_count": null,
      "outputs": [
        {
          "output_type": "stream",
          "name": "stdout",
          "text": [
            "Selling Price:  900\n",
            "Selling Price:  1000\n"
          ]
        }
      ]
    },
    {
      "cell_type": "code",
      "source": [
        "class Polygon:\n",
        "    # method to render a shape\n",
        "    def render(self):\n",
        "        print(\"Rendering Polygon...\")\n",
        "\n",
        "class Square(Polygon):   # inheriting Polygon class\n",
        "    # renders Square\n",
        "    def render(self):\n",
        "        print(\"Rendering Square...\")\n",
        "\n",
        "class Circle(Polygon):  # inheriting Polygon class\n",
        "    # renders circle\n",
        "    def render(self):\n",
        "        print(\"Rendering Circle...\")\n",
        "\n",
        "# create an object of Square\n",
        "s1 = Square()\n",
        "s1.render()\n",
        "# create an object of Circle\n",
        "c1 = Circle()\n",
        "c1.render()"
      ],
      "metadata": {
        "colab": {
          "base_uri": "https://localhost:8080/"
        },
        "id": "gcwp6wCUeSKa",
        "outputId": "d35e969f-de50-47ef-afa3-020a53bbda1e"
      },
      "execution_count": null,
      "outputs": [
        {
          "output_type": "stream",
          "name": "stdout",
          "text": [
            "Rendering Square...\n",
            "Rendering Circle...\n"
          ]
        }
      ]
    }
  ]
}